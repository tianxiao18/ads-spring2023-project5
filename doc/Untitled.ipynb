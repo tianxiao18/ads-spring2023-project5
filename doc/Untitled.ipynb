{
 "cells": [
  {
   "cell_type": "code",
   "execution_count": 3,
   "id": "8eaf0b39",
   "metadata": {},
   "outputs": [],
   "source": [
    "import os\n",
    "import numpy as np\n",
    "import pandas as pd\n",
    "import matplotlib.pyplot as plt"
   ]
  },
  {
   "cell_type": "code",
   "execution_count": 8,
   "id": "7505f714",
   "metadata": {},
   "outputs": [
    {
     "name": "stdout",
     "output_type": "stream",
     "text": [
      "Read configuration file: NYC_new_astgcn.conf\n",
      "(54, 172, 4, 1) (18, 172, 4, 1) (17, 172, 4, 1)\n",
      "mean.shape: (1, 1, 1)\n",
      "std.shape: (1, 1, 1)\n",
      "****************************************************************************************************\n",
      "mean.shape: (1, 1, 4, 1)\n",
      "std.shape: (1, 1, 4, 1)\n",
      "train x: (54, 172, 4, 1)\n",
      "train target: (54, 172, 1)\n",
      "train timestamp: (54,)\n",
      "\n",
      "val x: (18, 172, 4, 1)\n",
      "val target: (18, 172, 1)\n",
      "val timestamp: (18,)\n",
      "\n",
      "test x: (17, 172, 4, 1)\n",
      "test target: (17, 172, 1)\n",
      "test timestamp: (17,)\n",
      "\n",
      "train data _mean : (1, 1, 4, 1) [[[[43416.27906977]\n",
      "   [86369.85685278]\n",
      "   [  241.30458441]\n",
      "   [ 6013.81664513]]]]\n",
      "train data _std : (1, 1, 4, 1) [[[[23724.26426293]\n",
      "   [35431.39926155]\n",
      "   [  389.0407519 ]\n",
      "   [ 9450.05620739]]]]\n",
      "save file: NYC_new_r1_d0_w0_astcgn\n"
     ]
    }
   ],
   "source": [
    "!python prepareData.py --config NYC_new_astgcn.conf"
   ]
  },
  {
   "cell_type": "code",
   "execution_count": null,
   "id": "4877e8e6",
   "metadata": {},
   "outputs": [],
   "source": [
    "!python train_ASTGCN_r_IRM.py --config NYC_new_astgcn.conf"
   ]
  }
 ],
 "metadata": {
  "kernelspec": {
   "display_name": "Python 3 (ipykernel)",
   "language": "python",
   "name": "python3"
  },
  "language_info": {
   "codemirror_mode": {
    "name": "ipython",
    "version": 3
   },
   "file_extension": ".py",
   "mimetype": "text/x-python",
   "name": "python",
   "nbconvert_exporter": "python",
   "pygments_lexer": "ipython3",
   "version": "3.9.12"
  },
  "toc": {
   "base_numbering": 1,
   "nav_menu": {},
   "number_sections": true,
   "sideBar": true,
   "skip_h1_title": false,
   "title_cell": "Table of Contents",
   "title_sidebar": "Contents",
   "toc_cell": false,
   "toc_position": {},
   "toc_section_display": true,
   "toc_window_display": false
  },
  "varInspector": {
   "cols": {
    "lenName": 16,
    "lenType": 16,
    "lenVar": 40
   },
   "kernels_config": {
    "python": {
     "delete_cmd_postfix": "",
     "delete_cmd_prefix": "del ",
     "library": "var_list.py",
     "varRefreshCmd": "print(var_dic_list())"
    },
    "r": {
     "delete_cmd_postfix": ") ",
     "delete_cmd_prefix": "rm(",
     "library": "var_list.r",
     "varRefreshCmd": "cat(var_dic_list()) "
    }
   },
   "types_to_exclude": [
    "module",
    "function",
    "builtin_function_or_method",
    "instance",
    "_Feature"
   ],
   "window_display": false
  }
 },
 "nbformat": 4,
 "nbformat_minor": 5
}
