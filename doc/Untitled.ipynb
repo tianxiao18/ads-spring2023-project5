{
 "cells": [
  {
   "cell_type": "code",
   "execution_count": 1,
   "id": "6f576157",
   "metadata": {},
   "outputs": [],
   "source": [
    "import os\n",
    "import numpy as np\n",
    "import pandas as pd\n",
    "import matplotlib.pyplot as plt\n",
    "import torch"
   ]
  },
  {
   "cell_type": "code",
   "execution_count": 2,
   "id": "85ab7013",
   "metadata": {},
   "outputs": [
    {
     "name": "stdout",
     "output_type": "stream",
     "text": [
      "Read configuration file: NYC_new_astgcn.conf\n",
      "(54, 172, 4, 1) (18, 172, 4, 1) (17, 172, 4, 1)\n",
      "mean.shape: (1, 1, 1)\n",
      "std.shape: (1, 1, 1)\n",
      "****************************************************************************************************\n",
      "mean.shape: (1, 1, 4, 1)\n",
      "std.shape: (1, 1, 4, 1)\n",
      "train x: (54, 172, 4, 1)\n",
      "train target: (54, 172, 1)\n",
      "train timestamp: (54,)\n",
      "\n",
      "val x: (18, 172, 4, 1)\n",
      "val target: (18, 172, 1)\n",
      "val timestamp: (18,)\n",
      "\n",
      "test x: (17, 172, 4, 1)\n",
      "test target: (17, 172, 1)\n",
      "test timestamp: (17,)\n",
      "\n",
      "train data _mean : (1, 1, 4, 1) [[[[43416.27906977]\n",
      "   [86369.85685278]\n",
      "   [  241.30458441]\n",
      "   [ 6013.81664513]]]]\n",
      "train data _std : (1, 1, 4, 1) [[[[23724.26426293]\n",
      "   [35431.39926155]\n",
      "   [  389.0407519 ]\n",
      "   [ 9450.05620739]]]]\n",
      "save file: NYC_new_r1_d0_w0_astcgn\n"
     ]
    }
   ],
   "source": [
    "!python prepareData.py --config NYC_new_astgcn.conf"
   ]
  },
  {
   "cell_type": "code",
   "execution_count": 10,
   "id": "d5882f42",
   "metadata": {},
   "outputs": [
    {
     "name": "stdout",
     "output_type": "stream",
     "text": [
      "Read configuration file: NYC_new_astgcn.conf\n",
      "CUDA: False cuda:0\n",
      "folder_dir: astgcn_r_h1d0w0_channel4_1.000000e-04\n",
      "params_path: experiments\\NYC\\astgcn_r_h1d0w0_channel4_1.000000e-04\n",
      "load file: NYC_new_r1_d0_w0_astcgn\n",
      "train: torch.Size([54, 172, 4, 1]) torch.Size([54, 172, 1])\n",
      "val: torch.Size([18, 172, 4, 1]) torch.Size([18, 172, 1])\n",
      "test: torch.Size([17, 172, 4, 1]) torch.Size([17, 172, 1])\n"
     ]
    },
    {
     "name": "stderr",
     "output_type": "stream",
     "text": [
      "C:\\Users\\47183\\OneDrive\\Documents\\GitHub\\ads-spring2023-project5\\doc\\utils.py:110: RuntimeWarning: invalid value encountered in true_divide\n",
      "  return (2 * L) / lambda_max - np.identity(W.shape[0])\n",
      "Traceback (most recent call last):\n",
      "  File \"C:\\Users\\47183\\OneDrive\\Documents\\GitHub\\ads-spring2023-project5\\doc\\train_ASTGCN_r.py\", line 78, in <module>\n",
      "    net = make_model(DEVICE, nb_block, in_channels, K, nb_chev_filter, nb_time_filter, time_strides, adj_mx,\n",
      "  File \"C:\\Users\\47183\\OneDrive\\Documents\\GitHub\\ads-spring2023-project5\\doc\\ASTGCN_r.py\", line 280, in make_model\n",
      "    cheb_polynomials = [torch.from_numpy(i).type(torch.FloatTensor).to(DEVICE) for i in cheb_polynomial(L_tilde, K)]\n",
      "  File \"C:\\Users\\47183\\OneDrive\\Documents\\GitHub\\ads-spring2023-project5\\doc\\ASTGCN_r.py\", line 280, in <listcomp>\n",
      "    cheb_polynomials = [torch.from_numpy(i).type(torch.FloatTensor).to(DEVICE) for i in cheb_polynomial(L_tilde, K)]\n",
      "  File \"C:\\Users\\47183\\anaconda3\\lib\\site-packages\\torch\\cuda\\__init__.py\", line 221, in _lazy_init\n",
      "    raise AssertionError(\"Torch not compiled with CUDA enabled\")\n",
      "AssertionError: Torch not compiled with CUDA enabled\n"
     ]
    }
   ],
   "source": [
    "!python train_ASTGCN_r.py --config NYC_new_astgcn.conf"
   ]
  },
  {
   "cell_type": "code",
   "execution_count": null,
   "id": "3e25e4ac",
   "metadata": {},
   "outputs": [],
   "source": []
  }
 ],
 "metadata": {
  "kernelspec": {
   "display_name": "Python 3 (ipykernel)",
   "language": "python",
   "name": "python3"
  },
  "language_info": {
   "codemirror_mode": {
    "name": "ipython",
    "version": 3
   },
   "file_extension": ".py",
   "mimetype": "text/x-python",
   "name": "python",
   "nbconvert_exporter": "python",
   "pygments_lexer": "ipython3",
   "version": "3.9.12"
  },
  "toc": {
   "base_numbering": 1,
   "nav_menu": {},
   "number_sections": true,
   "sideBar": true,
   "skip_h1_title": false,
   "title_cell": "Table of Contents",
   "title_sidebar": "Contents",
   "toc_cell": false,
   "toc_position": {},
   "toc_section_display": true,
   "toc_window_display": false
  },
  "varInspector": {
   "cols": {
    "lenName": 16,
    "lenType": 16,
    "lenVar": 40
   },
   "kernels_config": {
    "python": {
     "delete_cmd_postfix": "",
     "delete_cmd_prefix": "del ",
     "library": "var_list.py",
     "varRefreshCmd": "print(var_dic_list())"
    },
    "r": {
     "delete_cmd_postfix": ") ",
     "delete_cmd_prefix": "rm(",
     "library": "var_list.r",
     "varRefreshCmd": "cat(var_dic_list()) "
    }
   },
   "types_to_exclude": [
    "module",
    "function",
    "builtin_function_or_method",
    "instance",
    "_Feature"
   ],
   "window_display": false
  }
 },
 "nbformat": 4,
 "nbformat_minor": 5
}
