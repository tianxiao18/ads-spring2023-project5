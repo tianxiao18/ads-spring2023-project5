{
 "cells": [
  {
   "cell_type": "code",
   "execution_count": 1,
   "id": "6231d21f",
   "metadata": {},
   "outputs": [],
   "source": [
    "import numpy as np\n",
    "import torch\n",
    "from sklearn.preprocessing import MinMaxScaler,StandardScaler\n",
    "import matplotlib.pyplot as plt\n",
    "from torch import nn\n",
    "import torch.nn.functional as F\n",
    "import torch.optim as optim\n",
    "from tqdm.notebook import tqdm_notebook\n",
    "import pandas as pd\n",
    "from sklearn.metrics import mean_squared_error\n",
    "import scipy"
   ]
  },
  {
   "cell_type": "code",
   "execution_count": 2,
   "id": "17137587",
   "metadata": {},
   "outputs": [],
   "source": [
    "feature_matrix = np.load('new_feature_matrix.npy')\n",
    "# device = torch.device(\"cuda\" if torch.cuda.is_available() else \"cpu\")\n",
    "device = 'cpu'\n",
    "cuda = True if torch.cuda.is_available() else False\n",
    "drop_rate = 0.5\n",
    "time_step = 5\n",
    "epochs = 200\n",
    "feature_matrix = np.load('new_feature_matrix.npy')"
   ]
  },
  {
   "cell_type": "code",
   "execution_count": 3,
   "id": "d503281e",
   "metadata": {},
   "outputs": [],
   "source": [
    "scaler = StandardScaler()\n",
    "## normalization\n",
    "def normalization(feature_matrix):\n",
    "    feature_mat = np.zeros((feature_matrix.shape[0],feature_matrix.shape[1],feature_matrix.shape[2]))\n",
    "    target = np.zeros((feature_matrix.shape[0],feature_matrix.shape[1]))\n",
    "    for i in range(feature_matrix.shape[0]):\n",
    "        feature_vector=feature_matrix[i]\n",
    "        f1 = scaler.fit_transform(feature_vector[:,0].reshape(-1,1)).reshape(-1,1)\n",
    "        f2 = scaler.fit_transform(feature_vector[:,1].reshape(-1,1)).reshape(-1,1)\n",
    "        f3 = scaler.fit_transform(feature_vector[:,2].reshape(-1,1)).reshape(-1,1)\n",
    "        f4 = scaler.fit_transform(feature_vector[:,3].reshape(-1,1)).reshape(-1,1)\n",
    "        visit_nums = scaler.fit_transform(feature_vector[:,4].reshape(-1,1)).reshape(-1,1)\n",
    "        feature_vector = np.stack([f1,f2,f3,f4,visit_nums],axis=1).reshape(feature_matrix.shape[1],feature_matrix.shape[2])\n",
    "        feature_mat[i] = feature_vector\n",
    "    return feature_mat\n",
    "\n",
    "\n",
    "## split into train, test and validation\n",
    "features = feature_matrix\n",
    "features = normalization(features)\n",
    "train_idx, test_idx, val_idx = [],[],[]\n",
    "for i in range(features.shape[0]):\n",
    "    if i%5<=2:\n",
    "        train_idx.append(i)\n",
    "    elif i%5==3:\n",
    "        val_idx.append(i)\n",
    "    else:\n",
    "        test_idx.append(i)\n",
    "\n",
    "train_features = features[train_idx,:,:]\n",
    "test_features = features[test_idx,:,:]\n",
    "val_features = features[val_idx,:,:]"
   ]
  },
  {
   "cell_type": "code",
   "execution_count": 4,
   "id": "733176f4",
   "metadata": {},
   "outputs": [
    {
     "name": "stdout",
     "output_type": "stream",
     "text": [
      "(18, 172, 5)\n",
      "(18, 172, 5)\n",
      "(54, 172, 5)\n"
     ]
    }
   ],
   "source": [
    "print(val_features.shape)\n",
    "print(test_features.shape)\n",
    "print(train_features.shape)"
   ]
  },
  {
   "cell_type": "code",
   "execution_count": 5,
   "id": "a84cb084",
   "metadata": {},
   "outputs": [],
   "source": [
    "def get_features(features, index):\n",
    "    f = features[:,index,:].cpu()\n",
    "    new = np.zeros((len(f) - time_step, time_step, 4-1))\n",
    "    target = np.zeros((len(f) - time_step, 1))\n",
    "    for i in range(len(f) - time_step):\n",
    "        new[i] = f[i:i+time_step,1:4]\n",
    "        target[i] = f[i+time_step, 4]\n",
    "    return new, target"
   ]
  },
  {
   "cell_type": "markdown",
   "id": "d61d2c45",
   "metadata": {},
   "source": [
    "# LSTM(Long Short Term Memory)"
   ]
  },
  {
   "cell_type": "code",
   "execution_count": 6,
   "id": "6624798b",
   "metadata": {},
   "outputs": [],
   "source": [
    "class MLP(torch.nn.Module):\n",
    "    def __init__(self, n_i, n_h, n_o):\n",
    "        super(MLP, self).__init__()\n",
    "        self.linear1 = nn.Linear(n_i, n_h)\n",
    "        self.relu = nn.ReLU()\n",
    "        self.linear2 = nn.Linear(n_h, n_o)\n",
    "    def forward(self, input):\n",
    "        input = self.linear1(input)\n",
    "        input = self.relu(input)\n",
    "        input = F.dropout(input, p=drop_rate, training=self.training)\n",
    "        input = self.linear2(input)\n",
    "        return input\n",
    "###Convert the data to tensor \n",
    "def totensor(data):\n",
    "    return torch.Tensor(data).to(device)\n",
    "\n",
    "class LSTM(nn.Module):\n",
    "    def __init__(self):\n",
    "        super(LSTM,self).__init__()\n",
    "        self.mlp = MLP(time_step*4,32,1)#input is the num of time_step\n",
    "        self.lstm1 = nn.LSTM(input_size=3,hidden_size=128,num_layers=2,batch_first=True)\n",
    "        self.lstm2 = nn.LSTM(input_size=128,hidden_size=4,num_layers=2,batch_first=True)\n",
    "    def forward(self, x):\n",
    "        x1,x2,x3 = x.size()\n",
    "        h1, (h1_T,c1_T) = self.lstm1(x)\n",
    "        h2, (h2_T, c2_T) = self.lstm2(h1)\n",
    "        h2 = h2.reshape(x1,-1)\n",
    "        output= self.mlp(h2)\n",
    "        return output "
   ]
  },
  {
   "cell_type": "code",
   "execution_count": 7,
   "id": "92cc9ad8",
   "metadata": {},
   "outputs": [],
   "source": [
    "min_val_loss = np.inf\n",
    "mean_losses = []\n",
    "losses = pd.DataFrame(columns = ['Training Loss', 'Validating Loss','Testing Loss'])\n",
    "model = LSTM().cpu()\n",
    "loss = nn.MSELoss()\n",
    "optimizer = optim.AdamW(model.parameters(),lr=0.001)"
   ]
  },
  {
   "cell_type": "code",
   "execution_count": 8,
   "id": "36d0f04e",
   "metadata": {},
   "outputs": [
    {
     "data": {
      "application/vnd.jupyter.widget-view+json": {
       "model_id": "d552e3d8a75f4ca9b37c8864e7613f39",
       "version_major": 2,
       "version_minor": 0
      },
      "text/plain": [
       "  0%|          | 0/200 [00:00<?, ?it/s]"
      ]
     },
     "metadata": {},
     "output_type": "display_data"
    },
    {
     "name": "stdout",
     "output_type": "stream",
     "text": [
      "Epoch: 001 | Lr: 0.00100000000000000002 |Train loss: 0.98999565|Val loss: 0.99515303\n",
      "Epoch: 002 | Lr: 0.00100000000000000002 |Train loss: 0.98999565|Val loss: 1.03022376\n",
      "Epoch: 003 | Lr: 0.00100000000000000002 |Train loss: 0.98999565|Val loss: 1.02912220\n",
      "Epoch: 004 | Lr: 0.00100000000000000002 |Train loss: 0.98999565|Val loss: 1.02760617\n",
      "Epoch: 005 | Lr: 0.00100000000000000002 |Train loss: 0.98999565|Val loss: 1.02089274\n",
      "Epoch: 006 | Lr: 0.00100000000000000002 |Train loss: 0.98999565|Val loss: 1.02342144\n",
      "Epoch: 007 | Lr: 0.00100000000000000002 |Train loss: 0.98999565|Val loss: 1.01870107\n",
      "Epoch: 008 | Lr: 0.00100000000000000002 |Train loss: 0.98999565|Val loss: 1.02055057\n",
      "Epoch: 009 | Lr: 0.00100000000000000002 |Train loss: 0.98999565|Val loss: 1.01143220\n",
      "Epoch: 010 | Lr: 0.00100000000000000002 |Train loss: 0.97047619|Val loss: 0.97015665\n",
      "Epoch: 011 | Lr: 0.00100000000000000002 |Train loss: 0.97047619|Val loss: 1.03897751\n",
      "Epoch: 012 | Lr: 0.00100000000000000002 |Train loss: 0.97047619|Val loss: 1.10041765\n",
      "Epoch: 013 | Lr: 0.00100000000000000002 |Train loss: 0.97047619|Val loss: 0.97518389\n",
      "Epoch: 014 | Lr: 0.00100000000000000002 |Train loss: 0.96261543|Val loss: 0.97499031\n",
      "Epoch: 015 | Lr: 0.00100000000000000002 |Train loss: 0.94978572|Val loss: 0.94719687\n",
      "Epoch: 016 | Lr: 0.00100000000000000002 |Train loss: 0.89856365|Val loss: 0.90415023\n",
      "Epoch: 017 | Lr: 0.00100000000000000002 |Train loss: 0.89169542|Val loss: 0.88837335\n",
      "Epoch: 018 | Lr: 0.00100000000000000002 |Train loss: 0.89169542|Val loss: 0.91958893\n",
      "Epoch: 019 | Lr: 0.00100000000000000002 |Train loss: 0.89169542|Val loss: 0.88646059\n",
      "Epoch: 020 | Lr: 0.00100000000000000002 |Train loss: 0.88355858|Val loss: 0.88280744\n",
      "Epoch: 021 | Lr: 0.00100000000000000002 |Train loss: 0.87283582|Val loss: 0.87976615\n",
      "Epoch: 022 | Lr: 0.00100000000000000002 |Train loss: 0.87283582|Val loss: 0.87156420\n",
      "Epoch: 023 | Lr: 0.00100000000000000002 |Train loss: 0.85307064|Val loss: 0.84546599\n",
      "Epoch: 024 | Lr: 0.00100000000000000002 |Train loss: 0.85307064|Val loss: 0.86568682\n",
      "Epoch: 025 | Lr: 0.00100000000000000002 |Train loss: 0.84124614|Val loss: 0.84196738\n",
      "Epoch: 026 | Lr: 0.00100000000000000002 |Train loss: 0.83899902|Val loss: 0.84456084\n",
      "Epoch: 027 | Lr: 0.00100000000000000002 |Train loss: 0.83679971|Val loss: 0.83143935\n",
      "Epoch: 028 | Lr: 0.00100000000000000002 |Train loss: 0.83679971|Val loss: 0.84810346\n",
      "Epoch: 029 | Lr: 0.00100000000000000002 |Train loss: 0.82688141|Val loss: 0.83253514\n",
      "Epoch: 030 | Lr: 0.00100000000000000002 |Train loss: 0.81036262|Val loss: 0.82700011\n",
      "Epoch: 031 | Lr: 0.00100000000000000002 |Train loss: 0.81036262|Val loss: 0.84134301\n",
      "Epoch: 032 | Lr: 0.00100000000000000002 |Train loss: 0.80956641|Val loss: 0.81919816\n",
      "Epoch: 033 | Lr: 0.00100000000000000002 |Train loss: 0.80940566|Val loss: 0.80351665\n",
      "Epoch: 034 | Lr: 0.00100000000000000002 |Train loss: 0.80940566|Val loss: 0.82076654\n",
      "Epoch: 035 | Lr: 0.00100000000000000002 |Train loss: 0.80133633|Val loss: 0.81008024\n",
      "Epoch: 036 | Lr: 0.00100000000000000002 |Train loss: 0.80132240|Val loss: 0.80427108\n",
      "Epoch: 037 | Lr: 0.00100000000000000002 |Train loss: 0.79326656|Val loss: 0.81492499\n",
      "Epoch: 038 | Lr: 0.00100000000000000002 |Train loss: 0.77914083|Val loss: 0.78788562\n",
      "Epoch: 039 | Lr: 0.00100000000000000002 |Train loss: 0.77914083|Val loss: 0.79104100\n",
      "Epoch: 040 | Lr: 0.00100000000000000002 |Train loss: 0.77400953|Val loss: 0.79139914\n",
      "Epoch: 041 | Lr: 0.00100000000000000002 |Train loss: 0.77400953|Val loss: 0.77978232\n",
      "Epoch: 042 | Lr: 0.00100000000000000002 |Train loss: 0.76318315|Val loss: 0.76166002\n",
      "Epoch: 043 | Lr: 0.00100000000000000002 |Train loss: 0.76318315|Val loss: 0.76393465\n",
      "Epoch: 044 | Lr: 0.00100000000000000002 |Train loss: 0.76318315|Val loss: 0.85754120\n",
      "Epoch: 045 | Lr: 0.00100000000000000002 |Train loss: 0.76318315|Val loss: 0.76267464\n",
      "Epoch: 046 | Lr: 0.00100000000000000002 |Train loss: 0.76233638|Val loss: 0.74721385\n",
      "Epoch: 047 | Lr: 0.00100000000000000002 |Train loss: 0.76233638|Val loss: 0.78482198\n",
      "Epoch: 048 | Lr: 0.00100000000000000002 |Train loss: 0.76233638|Val loss: 0.78155429\n",
      "Epoch: 049 | Lr: 0.00100000000000000002 |Train loss: 0.76233638|Val loss: 0.76364854\n",
      "Epoch: 050 | Lr: 0.00100000000000000002 |Train loss: 0.74813816|Val loss: 0.73858669\n",
      "Epoch: 051 | Lr: 0.00100000000000000002 |Train loss: 0.72464952|Val loss: 0.72930442\n",
      "Epoch: 052 | Lr: 0.00100000000000000002 |Train loss: 0.72464952|Val loss: 0.81265862\n",
      "Epoch: 053 | Lr: 0.00100000000000000002 |Train loss: 0.72464952|Val loss: 0.81639197\n",
      "Epoch: 054 | Lr: 0.00100000000000000002 |Train loss: 0.72464952|Val loss: 0.74462500\n",
      "Epoch: 055 | Lr: 0.00100000000000000002 |Train loss: 0.72464952|Val loss: 0.72834135\n",
      "Epoch: 056 | Lr: 0.00100000000000000002 |Train loss: 0.71126419|Val loss: 0.72400900\n",
      "Epoch: 057 | Lr: 0.00100000000000000002 |Train loss: 0.71126419|Val loss: 0.75100832\n",
      "Epoch: 058 | Lr: 0.00100000000000000002 |Train loss: 0.71126419|Val loss: 0.74978425\n",
      "Epoch: 059 | Lr: 0.00100000000000000002 |Train loss: 0.71126419|Val loss: 0.80998975\n",
      "Epoch: 060 | Lr: 0.00100000000000000002 |Train loss: 0.71126419|Val loss: 0.75524601\n",
      "Epoch: 061 | Lr: 0.00100000000000000002 |Train loss: 0.71126419|Val loss: 0.72933073\n",
      "Epoch: 062 | Lr: 0.00100000000000000002 |Train loss: 0.71126419|Val loss: 0.71590508\n",
      "Epoch: 063 | Lr: 0.00100000000000000002 |Train loss: 0.71126419|Val loss: 0.71777224\n",
      "Epoch: 064 | Lr: 0.00100000000000000002 |Train loss: 0.71126419|Val loss: 0.78259162\n",
      "Epoch: 065 | Lr: 0.00100000000000000002 |Train loss: 0.70786432|Val loss: 0.70477987\n",
      "Epoch: 066 | Lr: 0.00100000000000000002 |Train loss: 0.70786432|Val loss: 0.73006213\n",
      "Epoch: 067 | Lr: 0.00100000000000000002 |Train loss: 0.70786432|Val loss: 0.78113139\n",
      "Epoch: 068 | Lr: 0.00100000000000000002 |Train loss: 0.70673441|Val loss: 0.70545480\n",
      "Epoch: 069 | Lr: 0.00100000000000000002 |Train loss: 0.70673441|Val loss: 0.70371743\n",
      "Epoch: 070 | Lr: 0.00100000000000000002 |Train loss: 0.68956229|Val loss: 0.68499059\n",
      "Epoch: 071 | Lr: 0.00100000000000000002 |Train loss: 0.68956229|Val loss: 0.73448021\n",
      "Epoch: 072 | Lr: 0.00100000000000000002 |Train loss: 0.68956229|Val loss: 0.70073611\n",
      "Epoch: 073 | Lr: 0.00100000000000000002 |Train loss: 0.68956229|Val loss: 0.72526772\n",
      "Epoch: 074 | Lr: 0.00100000000000000002 |Train loss: 0.68956229|Val loss: 0.75563457\n",
      "Epoch: 075 | Lr: 0.00100000000000000002 |Train loss: 0.68956229|Val loss: 0.71164548\n",
      "Epoch: 076 | Lr: 0.00100000000000000002 |Train loss: 0.67223438|Val loss: 0.68273584\n",
      "Epoch: 077 | Lr: 0.00100000000000000002 |Train loss: 0.67223438|Val loss: 0.70610131\n",
      "Epoch: 078 | Lr: 0.00100000000000000002 |Train loss: 0.67223438|Val loss: 0.71291932\n",
      "Epoch: 079 | Lr: 0.00100000000000000002 |Train loss: 0.67223438|Val loss: 0.71513912\n",
      "Epoch: 080 | Lr: 0.00100000000000000002 |Train loss: 0.67223438|Val loss: 0.68344178\n",
      "Epoch: 081 | Lr: 0.00100000000000000002 |Train loss: 0.66760600|Val loss: 0.67841210\n",
      "Epoch: 082 | Lr: 0.00100000000000000002 |Train loss: 0.66760600|Val loss: 0.68574209\n",
      "Epoch: 083 | Lr: 0.00100000000000000002 |Train loss: 0.66760600|Val loss: 0.72470208\n",
      "Epoch: 084 | Lr: 0.00100000000000000002 |Train loss: 0.66760600|Val loss: 0.72570468\n",
      "Epoch: 085 | Lr: 0.00100000000000000002 |Train loss: 0.66760600|Val loss: 0.74238786\n",
      "Epoch: 086 | Lr: 0.00100000000000000002 |Train loss: 0.66760600|Val loss: 0.74155643\n",
      "Epoch: 087 | Lr: 0.00100000000000000002 |Train loss: 0.66760600|Val loss: 0.68320230\n",
      "Epoch: 088 | Lr: 0.00100000000000000002 |Train loss: 0.66760600|Val loss: 0.68030894\n",
      "Epoch: 089 | Lr: 0.00100000000000000002 |Train loss: 0.66760600|Val loss: 0.67683650\n",
      "Epoch: 090 | Lr: 0.00100000000000000002 |Train loss: 0.66317647|Val loss: 0.68410723\n",
      "Epoch: 091 | Lr: 0.00100000000000000002 |Train loss: 0.66317647|Val loss: 0.66955362\n",
      "Epoch: 092 | Lr: 0.00100000000000000002 |Train loss: 0.66317647|Val loss: 0.66839968\n",
      "Epoch: 093 | Lr: 0.00100000000000000002 |Train loss: 0.66272225|Val loss: 0.64947186\n",
      "Epoch: 094 | Lr: 0.00100000000000000002 |Train loss: 0.65790837|Val loss: 0.68610630\n",
      "Epoch: 095 | Lr: 0.00100000000000000002 |Train loss: 0.65145297|Val loss: 0.64510474\n",
      "Epoch: 096 | Lr: 0.00100000000000000002 |Train loss: 0.63370203|Val loss: 0.62848291\n",
      "Epoch: 097 | Lr: 0.00100000000000000002 |Train loss: 0.63370203|Val loss: 0.65029127\n"
     ]
    },
    {
     "name": "stdout",
     "output_type": "stream",
     "text": [
      "Epoch: 098 | Lr: 0.00100000000000000002 |Train loss: 0.63370203|Val loss: 0.67656073\n",
      "Epoch: 099 | Lr: 0.00100000000000000002 |Train loss: 0.63370203|Val loss: 0.69141135\n",
      "Epoch: 100 | Lr: 0.00100000000000000002 |Train loss: 0.63211512|Val loss: 0.65334333\n",
      "Epoch: 101 | Lr: 0.00100000000000000002 |Train loss: 0.63211512|Val loss: 0.63193751\n",
      "Epoch: 102 | Lr: 0.00100000000000000002 |Train loss: 0.63014638|Val loss: 0.62874164\n",
      "Epoch: 103 | Lr: 0.00100000000000000002 |Train loss: 0.63014638|Val loss: 0.66068357\n",
      "Epoch: 104 | Lr: 0.00100000000000000002 |Train loss: 0.60292231|Val loss: 0.61603400\n",
      "Epoch: 105 | Lr: 0.00100000000000000002 |Train loss: 0.60292231|Val loss: 0.61628870\n",
      "Epoch: 106 | Lr: 0.00100000000000000002 |Train loss: 0.60292231|Val loss: 0.59875151\n",
      "Epoch: 107 | Lr: 0.00100000000000000002 |Train loss: 0.60292231|Val loss: 0.66519232\n",
      "Epoch: 108 | Lr: 0.00100000000000000002 |Train loss: 0.60292231|Val loss: 0.70983567\n",
      "Epoch: 109 | Lr: 0.00100000000000000002 |Train loss: 0.60292231|Val loss: 0.71431195\n",
      "Epoch: 110 | Lr: 0.00100000000000000002 |Train loss: 0.60292231|Val loss: 0.67086317\n",
      "Epoch: 111 | Lr: 0.00100000000000000002 |Train loss: 0.60292231|Val loss: 0.62511990\n",
      "Epoch: 112 | Lr: 0.00100000000000000002 |Train loss: 0.59949471|Val loss: 0.59663759\n",
      "Epoch: 113 | Lr: 0.00100000000000000002 |Train loss: 0.59949471|Val loss: 0.63851073\n",
      "Epoch: 114 | Lr: 0.00100000000000000002 |Train loss: 0.59949471|Val loss: 0.63463255\n",
      "Epoch: 115 | Lr: 0.00100000000000000002 |Train loss: 0.59949471|Val loss: 0.71783296\n",
      "Epoch: 116 | Lr: 0.00100000000000000002 |Train loss: 0.59949471|Val loss: 0.61542604\n",
      "Epoch: 117 | Lr: 0.00100000000000000002 |Train loss: 0.57833161|Val loss: 0.59109417\n",
      "Epoch: 118 | Lr: 0.00100000000000000002 |Train loss: 0.57833161|Val loss: 0.59127213\n",
      "Epoch: 119 | Lr: 0.00100000000000000002 |Train loss: 0.57833161|Val loss: 0.62781542\n",
      "Epoch: 120 | Lr: 0.00100000000000000002 |Train loss: 0.57833161|Val loss: 0.57440430\n",
      "Epoch: 121 | Lr: 0.00100000000000000002 |Train loss: 0.57185736|Val loss: 0.57494975\n",
      "Epoch: 122 | Lr: 0.00100000000000000002 |Train loss: 0.57185736|Val loss: 0.56495303\n",
      "Epoch: 123 | Lr: 0.00100000000000000002 |Train loss: 0.57185736|Val loss: 0.64276806\n",
      "Epoch: 124 | Lr: 0.00100000000000000002 |Train loss: 0.57185736|Val loss: 0.62505726\n",
      "Epoch: 125 | Lr: 0.00100000000000000002 |Train loss: 0.57185736|Val loss: 0.63046713\n",
      "Epoch: 126 | Lr: 0.00100000000000000002 |Train loss: 0.57185736|Val loss: 0.59617202\n",
      "Epoch: 127 | Lr: 0.00100000000000000002 |Train loss: 0.57185736|Val loss: 0.63294717\n",
      "Epoch: 128 | Lr: 0.00100000000000000002 |Train loss: 0.57185736|Val loss: 0.57100638\n",
      "Epoch: 129 | Lr: 0.00100000000000000002 |Train loss: 0.56769797|Val loss: 0.54828697\n",
      "Epoch: 130 | Lr: 0.00100000000000000002 |Train loss: 0.54634147|Val loss: 0.52382287\n",
      "Epoch: 131 | Lr: 0.00100000000000000002 |Train loss: 0.54634147|Val loss: 0.58523103\n",
      "Epoch: 132 | Lr: 0.00100000000000000002 |Train loss: 0.54634147|Val loss: 0.59279242\n",
      "Epoch: 133 | Lr: 0.00100000000000000002 |Train loss: 0.54634147|Val loss: 0.58080837\n",
      "Epoch: 134 | Lr: 0.00100000000000000002 |Train loss: 0.54634147|Val loss: 0.59107443\n",
      "Epoch: 135 | Lr: 0.00100000000000000002 |Train loss: 0.54634147|Val loss: 0.59609746\n",
      "Epoch: 136 | Lr: 0.00100000000000000002 |Train loss: 0.54634147|Val loss: 0.57699057\n",
      "Epoch: 137 | Lr: 0.00100000000000000002 |Train loss: 0.54634147|Val loss: 0.55092723\n",
      "Epoch: 138 | Lr: 0.00100000000000000002 |Train loss: 0.54634147|Val loss: 0.59752939\n",
      "Epoch: 139 | Lr: 0.00100000000000000002 |Train loss: 0.54634147|Val loss: 0.56279058\n",
      "Epoch: 140 | Lr: 0.00100000000000000002 |Train loss: 0.54634147|Val loss: 0.54142810\n",
      "Epoch: 141 | Lr: 0.00100000000000000002 |Train loss: 0.53310146|Val loss: 0.51458598\n",
      "Epoch: 142 | Lr: 0.00100000000000000002 |Train loss: 0.53310146|Val loss: 0.58986806\n",
      "Epoch: 143 | Lr: 0.00100000000000000002 |Train loss: 0.53310146|Val loss: 0.59744170\n",
      "Epoch: 144 | Lr: 0.00100000000000000002 |Train loss: 0.53310146|Val loss: 0.54214056\n",
      "Epoch: 145 | Lr: 0.00100000000000000002 |Train loss: 0.52771741|Val loss: 0.51772659\n",
      "Epoch: 146 | Lr: 0.00100000000000000002 |Train loss: 0.52771741|Val loss: 0.63142661\n",
      "Epoch: 147 | Lr: 0.00100000000000000002 |Train loss: 0.52771741|Val loss: 0.59075648\n",
      "Epoch: 148 | Lr: 0.00100000000000000002 |Train loss: 0.52771741|Val loss: 0.53005378\n",
      "Epoch: 149 | Lr: 0.00100000000000000002 |Train loss: 0.52072055|Val loss: 0.52578119\n",
      "Epoch: 150 | Lr: 0.00100000000000000002 |Train loss: 0.52056503|Val loss: 0.49715526\n",
      "Epoch: 151 | Lr: 0.00100000000000000002 |Train loss: 0.51087450|Val loss: 0.50244473\n",
      "Epoch: 152 | Lr: 0.00100000000000000002 |Train loss: 0.50169954|Val loss: 0.46341036\n",
      "Epoch: 153 | Lr: 0.00100000000000000002 |Train loss: 0.50169954|Val loss: 0.54337861\n",
      "Epoch: 154 | Lr: 0.00100000000000000002 |Train loss: 0.50169954|Val loss: 0.61896883\n",
      "Epoch: 155 | Lr: 0.00100000000000000002 |Train loss: 0.50169954|Val loss: 0.57765127\n",
      "Epoch: 156 | Lr: 0.00100000000000000002 |Train loss: 0.50169954|Val loss: 0.53424121\n",
      "Epoch: 157 | Lr: 0.00100000000000000002 |Train loss: 0.50169954|Val loss: 0.50012810\n",
      "Epoch: 158 | Lr: 0.00100000000000000002 |Train loss: 0.50169954|Val loss: 0.50785717\n",
      "Epoch: 159 | Lr: 0.00100000000000000002 |Train loss: 0.50016088|Val loss: 0.50942918\n",
      "Epoch: 160 | Lr: 0.00100000000000000002 |Train loss: 0.49158722|Val loss: 0.47857174\n",
      "Epoch: 161 | Lr: 0.00100000000000000002 |Train loss: 0.48204657|Val loss: 0.46719693\n",
      "Epoch: 162 | Lr: 0.00100000000000000002 |Train loss: 0.48204657|Val loss: 0.52161328\n",
      "Epoch: 163 | Lr: 0.00100000000000000002 |Train loss: 0.48204657|Val loss: 0.47679848\n",
      "Epoch: 164 | Lr: 0.00100000000000000002 |Train loss: 0.48204657|Val loss: 0.50092316\n",
      "Epoch: 165 | Lr: 0.00100000000000000002 |Train loss: 0.48204657|Val loss: 0.56523217\n",
      "Epoch: 166 | Lr: 0.00100000000000000002 |Train loss: 0.48204657|Val loss: 0.70417129\n",
      "Epoch: 167 | Lr: 0.00100000000000000002 |Train loss: 0.48204657|Val loss: 0.60489579\n",
      "Epoch: 168 | Lr: 0.00100000000000000002 |Train loss: 0.48204657|Val loss: 0.50092639\n",
      "Epoch: 169 | Lr: 0.00100000000000000002 |Train loss: 0.48204657|Val loss: 0.51151222\n",
      "Epoch: 170 | Lr: 0.00100000000000000002 |Train loss: 0.48204657|Val loss: 0.48902157\n",
      "Epoch: 171 | Lr: 0.00100000000000000002 |Train loss: 0.48204657|Val loss: 0.50209249\n",
      "Epoch: 172 | Lr: 0.00100000000000000002 |Train loss: 0.48204657|Val loss: 0.61813417\n",
      "Epoch: 173 | Lr: 0.00100000000000000002 |Train loss: 0.48204657|Val loss: 0.52244869\n",
      "Epoch: 174 | Lr: 0.00100000000000000002 |Train loss: 0.48204657|Val loss: 0.47586579\n",
      "Epoch: 175 | Lr: 0.00100000000000000002 |Train loss: 0.48204657|Val loss: 0.45691969\n",
      "Epoch: 176 | Lr: 0.00100000000000000002 |Train loss: 0.48204657|Val loss: 0.44641326\n",
      "Epoch: 177 | Lr: 0.00100000000000000002 |Train loss: 0.48082112|Val loss: 0.43533236\n",
      "Epoch: 178 | Lr: 0.00100000000000000002 |Train loss: 0.48042368|Val loss: 0.47866147\n",
      "Epoch: 179 | Lr: 0.00100000000000000002 |Train loss: 0.47537817|Val loss: 0.43907729\n",
      "Epoch: 180 | Lr: 0.00100000000000000002 |Train loss: 0.47537817|Val loss: 0.49502266\n",
      "Epoch: 181 | Lr: 0.00100000000000000002 |Train loss: 0.47537817|Val loss: 0.56338226\n",
      "Epoch: 182 | Lr: 0.00100000000000000002 |Train loss: 0.47537817|Val loss: 0.53067176\n",
      "Epoch: 183 | Lr: 0.00100000000000000002 |Train loss: 0.47537817|Val loss: 0.46068258\n",
      "Epoch: 184 | Lr: 0.00100000000000000002 |Train loss: 0.45624108|Val loss: 0.44634930\n",
      "Epoch: 185 | Lr: 0.00100000000000000002 |Train loss: 0.45624108|Val loss: 0.45889841\n",
      "Epoch: 186 | Lr: 0.00100000000000000002 |Train loss: 0.45624108|Val loss: 0.43413641\n",
      "Epoch: 187 | Lr: 0.00100000000000000002 |Train loss: 0.45624108|Val loss: 0.44688061\n",
      "Epoch: 188 | Lr: 0.00100000000000000002 |Train loss: 0.45624108|Val loss: 0.50586261\n",
      "Epoch: 189 | Lr: 0.00100000000000000002 |Train loss: 0.45624108|Val loss: 0.44922518\n",
      "Epoch: 190 | Lr: 0.00100000000000000002 |Train loss: 0.45624108|Val loss: 0.65583717\n",
      "Epoch: 191 | Lr: 0.00100000000000000002 |Train loss: 0.45624108|Val loss: 0.59765164\n",
      "Epoch: 192 | Lr: 0.00100000000000000002 |Train loss: 0.45624108|Val loss: 0.52731754\n",
      "Epoch: 193 | Lr: 0.00100000000000000002 |Train loss: 0.45624108|Val loss: 0.49763094\n",
      "Epoch: 194 | Lr: 0.00100000000000000002 |Train loss: 0.45624108|Val loss: 0.50176017\n"
     ]
    },
    {
     "name": "stdout",
     "output_type": "stream",
     "text": [
      "Epoch: 195 | Lr: 0.00100000000000000002 |Train loss: 0.45624108|Val loss: 0.58844087\n",
      "Epoch: 196 | Lr: 0.00100000000000000002 |Train loss: 0.45624108|Val loss: 0.72362634\n",
      "Epoch: 197 | Lr: 0.00100000000000000002 |Train loss: 0.45624108|Val loss: 0.60708751\n",
      "Epoch: 198 | Lr: 0.00100000000000000002 |Train loss: 0.45624108|Val loss: 0.52788686\n",
      "Epoch: 199 | Lr: 0.00100000000000000002 |Train loss: 0.45624108|Val loss: 0.47394025\n",
      "Epoch: 200 | Lr: 0.00100000000000000002 |Train loss: 0.45624108|Val loss: 0.44788582\n",
      "\n",
      "Training finished.\n",
      "\n"
     ]
    }
   ],
   "source": [
    "for epoch in tqdm_notebook(range(1, epochs + 1)):\n",
    "    mean_loss, n = 0.0 , train_features.shape[1]\n",
    "    train_mean_loss, test_mean_loss = 0, 0\n",
    "    for i in range(n):\n",
    "      # Tensor.cpu()\n",
    "        train, train_target = get_features(totensor(train_features), i)\n",
    "        train, train_target = totensor(train), totensor(train_target)\n",
    "        val, val_target = get_features(totensor(val_features), i)\n",
    "        val, val_target = totensor(val), totensor(val_target)\n",
    "        y_train, y_val = model(train), model(val)\n",
    "        train_loss, val_loss = loss(y_train, train_target), loss(y_val, val_target)\n",
    "        optimizer.zero_grad()\n",
    "        train_loss.backward()\n",
    "        optimizer.step()\n",
    "        losses.loc[i,'Training Loss'], losses.loc[i,'Validating Loss'] = train_loss.detach().cpu().numpy(), val_loss.detach().cpu().numpy()\n",
    "    train_loss, val_loss = losses['Training Loss'].mean(), losses['Validating Loss'].mean()\n",
    "    mean_losses.append((train_loss, val_loss))\n",
    "    if train_loss < min_val_loss:\n",
    "        min_val_loss = train_loss\n",
    "    print('Epoch: {:03d} | Lr: {:.20f} |Train loss: {:.8f}|Val loss: {:.8f}'.\\\n",
    "          format(epoch, optimizer.param_groups[0]['lr'], min_val_loss, val_loss))\n",
    "\n",
    "print('\\nTraining finished.\\n')"
   ]
  },
  {
   "cell_type": "code",
   "execution_count": 9,
   "id": "c27eeab5",
   "metadata": {},
   "outputs": [],
   "source": [
    "test_loss = []\n",
    "for i in range(n):\n",
    "    test, test_target = get_features(totensor(test_features), i)\n",
    "    test, test_target = totensor(test), totensor(test_target)\n",
    "    test_y = model(test)\n",
    "    # val_y = model(val)\n",
    "    test_loss.append(loss(test_target,test_y).detach().cpu().numpy())\n",
    "# print('Test loss: {:.8f}'.\\\n",
    "#       format())\n",
    "# nn.MSELoss(test_y.detach().flatten(),test_target.flatten())\n",
    "# test_y"
   ]
  },
  {
   "cell_type": "code",
   "execution_count": 10,
   "id": "93cd247d",
   "metadata": {},
   "outputs": [
    {
     "name": "stdout",
     "output_type": "stream",
     "text": [
      "0.42781937\n"
     ]
    }
   ],
   "source": [
    "print(np.array(test_loss).mean())\n",
    "mean_losses = np.array(mean_losses)"
   ]
  },
  {
   "cell_type": "code",
   "execution_count": 11,
   "id": "a8b5a1eb",
   "metadata": {},
   "outputs": [
    {
     "data": {
      "image/png": "[encoded data removed]",
      "text/plain": [
       "<Figure size 432x288 with 1 Axes>"
      ]
     },
     "metadata": {},
     "output_type": "display_data"
    }
   ],
   "source": [
    "t_lose = [x for x in np.convolve(mean_losses[:,0], np.ones(20), 'valid') / 20]\n",
    "v_lose = [x for x in np.convolve(mean_losses[:,1], np.ones(20), 'valid') / 20]\n",
    "plt.figure(facecolor='white')\n",
    "plt.plot(t_lose,label = 'val')\n",
    "plt.plot(v_lose,label = 'train')\n",
    "plt.legend()\n",
    "#plt.title('LSTM Training Curve')\n",
    "plt.show()"
   ]
  },
  {
   "cell_type": "code",
   "execution_count": 12,
   "id": "9f8d0a68",
   "metadata": {},
   "outputs": [
    {
     "data": {
      "text/plain": [
       "(0.7926687709862736, 0.3941366755247787)"
      ]
     },
     "execution_count": 12,
     "metadata": {},
     "output_type": "execute_result"
    }
   ],
   "source": [
    "eva_set =np.zeros((n,2))\n",
    "for i in range(n):\n",
    "    test, test_target = get_features(totensor(test_features), i)\n",
    "    test = totensor(test)\n",
    "    y_test =  model(test).detach().cpu().numpy().reshape(-1)[-1]\n",
    "    test_target = test_target.reshape(-1)[-1]\n",
    "    eva_set[i] = np.array([test_target,y_test])\n",
    "    \n",
    "scipy.stats.pearsonr(eva_set[:,0],eva_set[:,1])[0],mean_squared_error(eva_set[:,0],eva_set[:,1])"
   ]
  },
  {
   "cell_type": "code",
   "execution_count": 30,
   "id": "8dbd5293",
   "metadata": {},
   "outputs": [
    {
     "data": {
      "image/png": "[encoded data removed]",
      "text/plain": [
       "<Figure size 936x288 with 1 Axes>"
      ]
     },
     "metadata": {},
     "output_type": "display_data"
    }
   ],
   "source": [
    "a = eva_set[:,0]\n",
    "p = eva_set[:,1]\n",
    "plt.figure(figsize = (13,4),facecolor='white')\n",
    "xxx = np.arange(len(p))\n",
    "\n",
    "plt.bar(xxx-0.5,a[xxx],0.5,label = 'true')\n",
    "plt.bar(xxx,p[xxx],0.5,label = 'prediction')\n",
    "plt.legend()\n",
    "#plt.title('AR Prediction')\n",
    "plt.show()"
   ]
  },
  {
   "cell_type": "markdown",
   "id": "628fec73",
   "metadata": {},
   "source": [
    "# Linear Regressor"
   ]
  },
  {
   "cell_type": "code",
   "execution_count": 13,
   "id": "f418a893",
   "metadata": {},
   "outputs": [],
   "source": [
    "import statsmodels.api as sm\n",
    "n = train_features.shape[1]\n",
    "new_train_feature = np.zeros((train_features.shape[0]*n,train_features.shape[2]+1))\n",
    "for i in range(n):\n",
    "    new_train_feature[train_features.shape[0]*i:train_features.shape[0]*(i+1)] = np.hstack((train_features[:,i,:],np.array([[i]]*train_features.shape[0])))\n",
    "train = pd.DataFrame(new_train_feature)\n",
    "train[5] = train[5].astype('category')\n",
    "X_train,Y_train = train.iloc[:,[0,1,2,3,5]],train.iloc[:,4]\n",
    "X_train = pd.get_dummies(data=X_train, drop_first=True)"
   ]
  },
  {
   "cell_type": "code",
   "execution_count": 14,
   "id": "5166ba36",
   "metadata": {},
   "outputs": [
    {
     "data": {
      "text/plain": [
       "(9288, 175)"
      ]
     },
     "execution_count": 14,
     "metadata": {},
     "output_type": "execute_result"
    }
   ],
   "source": [
    "X_train.shape"
   ]
  },
  {
   "cell_type": "code",
   "execution_count": 15,
   "id": "f8fc2afc",
   "metadata": {},
   "outputs": [],
   "source": [
    "new_test_feature = np.zeros(((test_features.shape[0]+val_features.shape[0])*n,(test_features.shape[2])+1))\n",
    "for i in range(n):\n",
    "    new_test_feature[test_features.shape[0]*i:test_features.shape[0]*(i+1)] = np.hstack((test_features[:,i,:],np.array([[i]]*test_features.shape[0])))\n",
    "    new_test_feature[test_features.shape[0]*n + val_features.shape[0]*i:test_features.shape[0]*n + val_features.shape[0]*(i+1)] = np.hstack((val_features[:,i,:],np.array([[i]]*val_features.shape[0])))\n",
    "test = pd.DataFrame(new_test_feature)\n",
    "test[5] = test[5].astype('category')\n",
    "X_test,Y_test = test.iloc[:,[0,1,2,3,5]],test.iloc[:,4]\n",
    "X_test = pd.get_dummies(data=X_test, drop_first=True)"
   ]
  },
  {
   "cell_type": "code",
   "execution_count": 16,
   "id": "18492ab8",
   "metadata": {},
   "outputs": [
    {
     "data": {
      "text/plain": [
       "LinearRegression()"
      ]
     },
     "execution_count": 16,
     "metadata": {},
     "output_type": "execute_result"
    }
   ],
   "source": [
    "X2 = sm.add_constant(X_train)\n",
    "est = sm.OLS(Y_train,X2)\n",
    "est2 = est.fit_regularized(L1_wt = .5,alpha = .1)\n",
    "from sklearn.linear_model import LinearRegression\n",
    "X_train = X_train.values\n",
    "Y_train = Y_train.values\n",
    "\n",
    "model = LinearRegression()\n",
    "model.fit(X_train,Y_train)"
   ]
  },
  {
   "cell_type": "code",
   "execution_count": 17,
   "id": "7f1705a2",
   "metadata": {},
   "outputs": [
    {
     "data": {
      "text/plain": [
       "(0.8340322307603375, 0.3114301129767445)"
      ]
     },
     "execution_count": 17,
     "metadata": {},
     "output_type": "execute_result"
    }
   ],
   "source": [
    "XX = sm.add_constant(X_test)\n",
    "pred_y = est2.predict(XX)\n",
    "scipy.stats.pearsonr(Y_test,pred_y)[0],mean_squared_error(Y_test,pred_y)\n",
    "# pred_y"
   ]
  },
  {
   "cell_type": "code",
   "execution_count": 18,
   "id": "687fa654",
   "metadata": {},
   "outputs": [
    {
     "data": {
      "image/png": "[encoded data removed]",
      "text/plain": [
       "<Figure size 936x288 with 1 Axes>"
      ]
     },
     "metadata": {},
     "output_type": "display_data"
    }
   ],
   "source": [
    "a = np.array(Y_test[:3096]).reshape((172,-1),order = 'A').mean(axis = 1 )\n",
    "p = np.array(pred_y[:3096]).reshape((172,-1),order = 'A').mean(axis = 1 )\n",
    "plt.figure(figsize = (13,4),facecolor='white')\n",
    "xxx = np.arange(len(p))\n",
    "\n",
    "plt.bar(xxx-0.5,a[xxx],0.5,label = 'true')\n",
    "plt.bar(xxx,p[xxx],0.5,label = 'prediction')\n",
    "plt.legend()\n",
    "#plt.title('Linear Regression Prediction')\n",
    "plt.show()"
   ]
  },
  {
   "cell_type": "markdown",
   "id": "2e3760a5",
   "metadata": {},
   "source": [
    "# AR (Autoregressive Model)"
   ]
  },
  {
   "cell_type": "code",
   "execution_count": 19,
   "id": "65302ec9",
   "metadata": {},
   "outputs": [
    {
     "data": {
      "text/plain": [
       "(172, 54)"
      ]
     },
     "execution_count": 19,
     "metadata": {},
     "output_type": "execute_result"
    }
   ],
   "source": [
    "from statsmodels.tsa.stattools import adfuller\n",
    "from statsmodels.tsa.ar_model import AutoReg\n",
    "train_series = train_features[:,:,4].T\n",
    "test_series = test_features[:,:,4].T\n",
    "val_series = val_features[:,:,4].T\n",
    "train_series.shape"
   ]
  },
  {
   "cell_type": "code",
   "execution_count": 20,
   "id": "9d850b5d",
   "metadata": {},
   "outputs": [
    {
     "data": {
      "text/plain": [
       "(172, 18)"
      ]
     },
     "execution_count": 20,
     "metadata": {},
     "output_type": "execute_result"
    }
   ],
   "source": [
    "ar_models = []\n",
    "for i in range(n):\n",
    "    ar_model = AutoReg(train_series[i], lags=5).fit()\n",
    "    ar_models.append(ar_model)\n",
    "test_series.shape"
   ]
  },
  {
   "cell_type": "code",
   "execution_count": 21,
   "id": "c40e36aa",
   "metadata": {},
   "outputs": [],
   "source": [
    "ar_pred = []\n",
    "for i in range(n):\n",
    "    pred = ar_models[i].predict(start=train_series.shape[1]+val_series.shape[1]+1,\n",
    "                              end=(train_series.shape[1]+test_series.shape[1]+val_series.shape[1]), dynamic=False)\n",
    "    ar_pred.append(pred)\n",
    "ar_pred = np.array(ar_pred)"
   ]
  },
  {
   "cell_type": "code",
   "execution_count": 22,
   "id": "786593a9",
   "metadata": {},
   "outputs": [
    {
     "data": {
      "image/png": "[encoded data removed]",
      "text/plain": [
       "<Figure size 936x288 with 1 Axes>"
      ]
     },
     "metadata": {},
     "output_type": "display_data"
    }
   ],
   "source": [
    "a = test_series.mean(axis=1)\n",
    "p = ar_pred.mean(axis=1)\n",
    "plt.figure(figsize = (13,4),facecolor='white')\n",
    "xxx = np.arange(len(p))\n",
    "\n",
    "plt.bar(xxx-0.5,a[xxx],0.5,label = 'true')\n",
    "plt.bar(xxx,p[xxx],0.5,label = 'prediction')\n",
    "plt.legend()\n",
    "#plt.title('AR Prediction')\n",
    "plt.show()"
   ]
  },
  {
   "cell_type": "code",
   "execution_count": 23,
   "id": "11194b29",
   "metadata": {},
   "outputs": [
    {
     "data": {
      "text/plain": [
       "(0.9010039860963176, 0.20195191740444982)"
      ]
     },
     "execution_count": 23,
     "metadata": {},
     "output_type": "execute_result"
    }
   ],
   "source": [
    "pred_y = ar_pred.flatten()\n",
    "actual_y = test_series.flatten()\n",
    "scipy.stats.pearsonr(pred_y,actual_y)[0],mean_squared_error(pred_y,actual_y)"
   ]
  },
  {
   "cell_type": "markdown",
   "id": "0e7ea33a",
   "metadata": {},
   "source": [
    "# HA (Naive Approach)"
   ]
  },
  {
   "cell_type": "code",
   "execution_count": 24,
   "id": "b33e803f",
   "metadata": {},
   "outputs": [],
   "source": [
    "HA_pred = np.zeros((n,4))\n",
    "for i in range(n):\n",
    "    for k in range(3):\n",
    "        HA_pred[i][k] = (np.sum(train_series[i,-(3-k)])+np.sum(HA_pred[i]))/4\n",
    "    HA_pred[i][3] = sum(HA_pred[i])/4\n",
    "pred_y = HA_pred.flatten()\n",
    "actual_y = np.array([x[-4:] for x in val_series]).flatten()"
   ]
  },
  {
   "cell_type": "code",
   "execution_count": 25,
   "id": "68e2b415",
   "metadata": {},
   "outputs": [
    {
     "data": {
      "text/plain": [
       "(0.9518003729199354, 0.5151370420798731)"
      ]
     },
     "execution_count": 25,
     "metadata": {},
     "output_type": "execute_result"
    }
   ],
   "source": [
    "scipy.stats.pearsonr(pred_y,actual_y)[0],mean_squared_error(pred_y,actual_y)"
   ]
  },
  {
   "cell_type": "code",
   "execution_count": 26,
   "id": "188bcc99",
   "metadata": {},
   "outputs": [],
   "source": [
    "a = actual_y.reshape((172,-1)).mean(axis = 1)\n",
    "p = pred_y.reshape((172,-1)).mean(axis = 1)"
   ]
  },
  {
   "cell_type": "code",
   "execution_count": 27,
   "id": "ca263bbb",
   "metadata": {},
   "outputs": [
    {
     "data": {
      "image/png": "[encoded data removed]",
      "text/plain": [
       "<Figure size 936x288 with 1 Axes>"
      ]
     },
     "metadata": {},
     "output_type": "display_data"
    }
   ],
   "source": [
    "a = actual_y.reshape((172,-1)).mean(axis = 1)\n",
    "p = pred_y.reshape((172,-1)).mean(axis = 1)\n",
    "plt.figure(figsize = (13,4),facecolor='white')\n",
    "xxx = np.arange(len(p))\n",
    "\n",
    "plt.bar(xxx-0.5,a[xxx],0.5,label = 'true')\n",
    "plt.bar(xxx,p[xxx],0.5,label = 'prediction')\n",
    "plt.legend()\n",
    "#plt.title('HA Prediction')\n",
    "plt.show()"
   ]
  },
  {
   "cell_type": "code",
   "execution_count": null,
   "id": "680d7ba0",
   "metadata": {},
   "outputs": [],
   "source": []
  }
 ],
 "metadata": {
  "kernelspec": {
   "display_name": "Python 3 (ipykernel)",
   "language": "python",
   "name": "python3"
  },
  "language_info": {
   "codemirror_mode": {
    "name": "ipython",
    "version": 3
   },
   "file_extension": ".py",
   "mimetype": "text/x-python",
   "name": "python",
   "nbconvert_exporter": "python",
   "pygments_lexer": "ipython3",
   "version": "3.9.12"
  },
  "toc": {
   "base_numbering": 1,
   "nav_menu": {},
   "number_sections": true,
   "sideBar": true,
   "skip_h1_title": false,
   "title_cell": "Table of Contents",
   "title_sidebar": "Contents",
   "toc_cell": false,
   "toc_position": {},
   "toc_section_display": true,
   "toc_window_display": false
  },
  "varInspector": {
   "cols": {
    "lenName": 16,
    "lenType": 16,
    "lenVar": 40
   },
   "kernels_config": {
    "python": {
     "delete_cmd_postfix": "",
     "delete_cmd_prefix": "del ",
     "library": "var_list.py",
     "varRefreshCmd": "print(var_dic_list())"
    },
    "r": {
     "delete_cmd_postfix": ") ",
     "delete_cmd_prefix": "rm(",
     "library": "var_list.r",
     "varRefreshCmd": "cat(var_dic_list()) "
    }
   },
   "types_to_exclude": [
    "module",
    "function",
    "builtin_function_or_method",
    "instance",
    "_Feature"
   ],
   "window_display": false
  }
 },
 "nbformat": 4,
 "nbformat_minor": 5
}
