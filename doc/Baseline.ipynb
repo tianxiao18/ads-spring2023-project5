{
 "cells": [
  {
   "cell_type": "code",
   "execution_count": 1,
   "id": "6231d21f",
   "metadata": {},
   "outputs": [],
   "source": [
    "import numpy as np\n",
    "import torch\n",
    "from sklearn.preprocessing import MinMaxScaler,StandardScaler\n",
    "import matplotlib.pyplot as plt\n",
    "from torch import nn\n",
    "import torch.nn.functional as F\n",
    "import torch.optim as optim\n",
    "from tqdm.notebook import tqdm_notebook\n",
    "import pandas as pd\n",
    "from sklearn.metrics import mean_squared_error\n",
    "import scipy"
   ]
  },
  {
   "cell_type": "code",
   "execution_count": 2,
   "id": "17137587",
   "metadata": {},
   "outputs": [],
   "source": [
    "feature_matrix = np.load('new_feature_matrix.npy')\n",
    "# device = torch.device(\"cuda\" if torch.cuda.is_available() else \"cpu\")\n",
    "device = 'cpu'\n",
    "cuda = True if torch.cuda.is_available() else False\n",
    "drop_rate = 0.5\n",
    "time_step = 5\n",
    "epochs = 200\n",
    "feature_matrix = np.load('new_feature_matrix.npy')"
   ]
  },
  {
   "cell_type": "code",
   "execution_count": 3,
   "id": "d503281e",
   "metadata": {},
   "outputs": [],
   "source": [
    "scaler = StandardScaler()\n",
    "## normalization\n",
    "def normalization(feature_matrix):\n",
    "    feature_mat = np.zeros((feature_matrix.shape[0],feature_matrix.shape[1],feature_matrix.shape[2]))\n",
    "    target = np.zeros((feature_matrix.shape[0],feature_matrix.shape[1]))\n",
    "    for i in range(feature_matrix.shape[0]):\n",
    "        feature_vector=feature_matrix[i]\n",
    "        f1 = scaler.fit_transform(feature_vector[:,0].reshape(-1,1)).reshape(-1,1)\n",
    "        f2 = scaler.fit_transform(feature_vector[:,1].reshape(-1,1)).reshape(-1,1)\n",
    "        f3 = scaler.fit_transform(feature_vector[:,2].reshape(-1,1)).reshape(-1,1)\n",
    "        f4 = scaler.fit_transform(feature_vector[:,3].reshape(-1,1)).reshape(-1,1)\n",
    "        visit_nums = scaler.fit_transform(feature_vector[:,4].reshape(-1,1)).reshape(-1,1)\n",
    "        feature_vector = np.stack([f1,f2,f3,f4,visit_nums],axis=1).reshape(feature_matrix.shape[1],feature_matrix.shape[2])\n",
    "        feature_mat[i] = feature_vector\n",
    "    return feature_mat\n",
    "\n",
    "\n",
    "## split into train, test and validation\n",
    "features = feature_matrix\n",
    "features = normalization(features)\n",
    "train_idx, test_idx, val_idx = [],[],[]\n",
    "for i in range(features.shape[0]):\n",
    "    if i%5<=2:\n",
    "        train_idx.append(i)\n",
    "    elif i%5==3:\n",
    "        val_idx.append(i)\n",
    "    else:\n",
    "        test_idx.append(i)\n",
    "\n",
    "train_features = features[train_idx,:,:]\n",
    "test_features = features[test_idx,:,:]\n",
    "val_features = features[val_idx,:,:]"
   ]
  },
  {
   "cell_type": "code",
   "execution_count": 4,
   "id": "733176f4",
   "metadata": {},
   "outputs": [
    {
     "name": "stdout",
     "output_type": "stream",
     "text": [
      "(18, 172, 5)\n",
      "(18, 172, 5)\n",
      "(54, 172, 5)\n"
     ]
    }
   ],
   "source": [
    "print(val_features.shape)\n",
    "print(test_features.shape)\n",
    "print(train_features.shape)"
   ]
  },
  {
   "cell_type": "code",
   "execution_count": 5,
   "id": "a84cb084",
   "metadata": {},
   "outputs": [],
   "source": [
    "def get_features(features, index):\n",
    "    f = features[:,index,:].cpu()\n",
    "    new = np.zeros((len(f) - time_step, time_step, 4-1))\n",
    "    target = np.zeros((len(f) - time_step, 1))\n",
    "    for i in range(len(f) - time_step):\n",
    "        new[i] = f[i:i+time_step,1:4]\n",
    "        target[i] = f[i+time_step, 4]\n",
    "    return new, target"
   ]
  },
  {
   "cell_type": "markdown",
   "id": "d61d2c45",
   "metadata": {},
   "source": [
    "# LSTM(Long Short Term Memory)"
   ]
  },
  {
   "cell_type": "code",
   "execution_count": 6,
   "id": "6624798b",
   "metadata": {},
   "outputs": [],
   "source": [
    "class MLP(torch.nn.Module):\n",
    "    def __init__(self, n_i, n_h, n_o):\n",
    "        super(MLP, self).__init__()\n",
    "        self.linear1 = nn.Linear(n_i, n_h)\n",
    "        self.relu = nn.ReLU()\n",
    "        self.linear2 = nn.Linear(n_h, n_o)\n",
    "    def forward(self, input):\n",
    "        input = self.linear1(input)\n",
    "        input = self.relu(input)\n",
    "        input = F.dropout(input, p=drop_rate, training=self.training)\n",
    "        input = self.linear2(input)\n",
    "        return input\n",
    "###Convert the data to tensor \n",
    "def totensor(data):\n",
    "    return torch.Tensor(data).to(device)\n",
    "\n",
    "class LSTM(nn.Module):\n",
    "    def __init__(self):\n",
    "        super(LSTM,self).__init__()\n",
    "        self.mlp = MLP(time_step*4,32,1)#input is the num of time_step\n",
    "        self.lstm1 = nn.LSTM(input_size=3,hidden_size=128,num_layers=2,batch_first=True)\n",
    "        self.lstm2 = nn.LSTM(input_size=128,hidden_size=4,num_layers=2,batch_first=True)\n",
    "    def forward(self, x):\n",
    "        x1,x2,x3 = x.size()\n",
    "        h1, (h1_T,c1_T) = self.lstm1(x)\n",
    "        h2, (h2_T, c2_T) = self.lstm2(h1)\n",
    "        h2 = h2.reshape(x1,-1)\n",
    "        output= self.mlp(h2)\n",
    "        return output "
   ]
  },
  {
   "cell_type": "code",
   "execution_count": 7,
   "id": "92cc9ad8",
   "metadata": {},
   "outputs": [],
   "source": [
    "min_val_loss = np.inf\n",
    "mean_losses = []\n",
    "losses = pd.DataFrame(columns = ['Training Loss', 'Validating Loss','Testing Loss'])\n",
    "model = LSTM().cpu()\n",
    "loss = nn.MSELoss()\n",
    "optimizer = optim.AdamW(model.parameters(),lr=0.001)"
   ]
  },
  {
   "cell_type": "code",
   "execution_count": 8,
   "id": "36d0f04e",
   "metadata": {},
   "outputs": [
    {
     "data": {
      "application/vnd.jupyter.widget-view+json": {
       "model_id": "ace8a5894c0e4ec5bebda00572c07830",
       "version_major": 2,
       "version_minor": 0
      },
      "text/plain": [
       "  0%|          | 0/200 [00:00<?, ?it/s]"
      ]
     },
     "metadata": {},
     "output_type": "display_data"
    },
    {
     "name": "stdout",
     "output_type": "stream",
     "text": [
      "Epoch: 001 | Lr: 0.00100000000000000002 |Train loss: 0.97902129|Val loss: 0.97725039\n",
      "Epoch: 002 | Lr: 0.00100000000000000002 |Train loss: 0.97902129|Val loss: 1.06955657\n",
      "Epoch: 003 | Lr: 0.00100000000000000002 |Train loss: 0.97902129|Val loss: 1.03805329\n",
      "Epoch: 004 | Lr: 0.00100000000000000002 |Train loss: 0.97902129|Val loss: 1.02975712\n",
      "Epoch: 005 | Lr: 0.00100000000000000002 |Train loss: 0.97902129|Val loss: 1.02792758\n",
      "Epoch: 006 | Lr: 0.00100000000000000002 |Train loss: 0.97902129|Val loss: 1.02224891\n",
      "Epoch: 007 | Lr: 0.00100000000000000002 |Train loss: 0.97902129|Val loss: 1.02254380\n",
      "Epoch: 008 | Lr: 0.00100000000000000002 |Train loss: 0.97902129|Val loss: 1.01810571\n",
      "Epoch: 009 | Lr: 0.00100000000000000002 |Train loss: 0.97902129|Val loss: 1.01010389\n",
      "Epoch: 010 | Lr: 0.00100000000000000002 |Train loss: 0.97902129|Val loss: 1.03907181\n",
      "Epoch: 011 | Lr: 0.00100000000000000002 |Train loss: 0.97902129|Val loss: 1.01948414\n",
      "Epoch: 012 | Lr: 0.00100000000000000002 |Train loss: 0.97902129|Val loss: 1.01683639\n",
      "Epoch: 013 | Lr: 0.00100000000000000002 |Train loss: 0.97902129|Val loss: 1.01130747\n",
      "Epoch: 014 | Lr: 0.00100000000000000002 |Train loss: 0.97902129|Val loss: 1.01846402\n",
      "Epoch: 015 | Lr: 0.00100000000000000002 |Train loss: 0.97902129|Val loss: 0.99633984\n",
      "Epoch: 016 | Lr: 0.00100000000000000002 |Train loss: 0.97902129|Val loss: 0.98071706\n",
      "Epoch: 017 | Lr: 0.00100000000000000002 |Train loss: 0.94338830|Val loss: 0.95588995\n",
      "Epoch: 018 | Lr: 0.00100000000000000002 |Train loss: 0.92764823|Val loss: 0.94745565\n",
      "Epoch: 019 | Lr: 0.00100000000000000002 |Train loss: 0.92764823|Val loss: 0.95984614\n",
      "Epoch: 020 | Lr: 0.00100000000000000002 |Train loss: 0.89708435|Val loss: 0.90818982\n",
      "Epoch: 021 | Lr: 0.00100000000000000002 |Train loss: 0.89191632|Val loss: 0.89029374\n",
      "Epoch: 022 | Lr: 0.00100000000000000002 |Train loss: 0.88050736|Val loss: 0.87593096\n",
      "Epoch: 023 | Lr: 0.00100000000000000002 |Train loss: 0.88050736|Val loss: 0.87717411\n",
      "Epoch: 024 | Lr: 0.00100000000000000002 |Train loss: 0.86684595|Val loss: 0.86012330\n",
      "Epoch: 025 | Lr: 0.00100000000000000002 |Train loss: 0.86684595|Val loss: 0.88022933\n",
      "Epoch: 026 | Lr: 0.00100000000000000002 |Train loss: 0.85844395|Val loss: 0.86786039\n",
      "Epoch: 027 | Lr: 0.00100000000000000002 |Train loss: 0.85087381|Val loss: 0.86672814\n",
      "Epoch: 028 | Lr: 0.00100000000000000002 |Train loss: 0.83133644|Val loss: 0.84164074\n",
      "Epoch: 029 | Lr: 0.00100000000000000002 |Train loss: 0.83133644|Val loss: 0.86887768\n",
      "Epoch: 030 | Lr: 0.00100000000000000002 |Train loss: 0.83133644|Val loss: 0.84291201\n",
      "Epoch: 031 | Lr: 0.00100000000000000002 |Train loss: 0.83133644|Val loss: 0.82962666\n",
      "Epoch: 032 | Lr: 0.00100000000000000002 |Train loss: 0.82880029|Val loss: 0.83462640\n",
      "Epoch: 033 | Lr: 0.00100000000000000002 |Train loss: 0.80857184|Val loss: 0.81690881\n",
      "Epoch: 034 | Lr: 0.00100000000000000002 |Train loss: 0.80857184|Val loss: 0.82051858\n",
      "Epoch: 035 | Lr: 0.00100000000000000002 |Train loss: 0.80857184|Val loss: 0.83749620\n",
      "Epoch: 036 | Lr: 0.00100000000000000002 |Train loss: 0.80134982|Val loss: 0.80208676\n",
      "Epoch: 037 | Lr: 0.00100000000000000002 |Train loss: 0.78223348|Val loss: 0.80534026\n",
      "Epoch: 038 | Lr: 0.00100000000000000002 |Train loss: 0.78223348|Val loss: 0.81147482\n",
      "Epoch: 039 | Lr: 0.00100000000000000002 |Train loss: 0.78223348|Val loss: 0.84718740\n",
      "Epoch: 040 | Lr: 0.00100000000000000002 |Train loss: 0.78035603|Val loss: 0.79384205\n",
      "Epoch: 041 | Lr: 0.00100000000000000002 |Train loss: 0.78035603|Val loss: 0.79731280\n",
      "Epoch: 042 | Lr: 0.00100000000000000002 |Train loss: 0.78035603|Val loss: 0.82940940\n",
      "Epoch: 043 | Lr: 0.00100000000000000002 |Train loss: 0.75605783|Val loss: 0.76297095\n",
      "Epoch: 044 | Lr: 0.00100000000000000002 |Train loss: 0.75605783|Val loss: 0.77039009\n",
      "Epoch: 045 | Lr: 0.00100000000000000002 |Train loss: 0.75347235|Val loss: 0.76059723\n",
      "Epoch: 046 | Lr: 0.00100000000000000002 |Train loss: 0.75347235|Val loss: 0.78752198\n",
      "Epoch: 047 | Lr: 0.00100000000000000002 |Train loss: 0.75123295|Val loss: 0.75944510\n",
      "Epoch: 048 | Lr: 0.00100000000000000002 |Train loss: 0.72047047|Val loss: 0.71657722\n",
      "Epoch: 049 | Lr: 0.00100000000000000002 |Train loss: 0.71164539|Val loss: 0.72550264\n",
      "Epoch: 050 | Lr: 0.00100000000000000002 |Train loss: 0.69865457|Val loss: 0.69955693\n",
      "Epoch: 051 | Lr: 0.00100000000000000002 |Train loss: 0.69865457|Val loss: 0.83478227\n",
      "Epoch: 052 | Lr: 0.00100000000000000002 |Train loss: 0.69865457|Val loss: 0.79903660\n",
      "Epoch: 053 | Lr: 0.00100000000000000002 |Train loss: 0.69865457|Val loss: 0.75051534\n",
      "Epoch: 054 | Lr: 0.00100000000000000002 |Train loss: 0.69865457|Val loss: 0.71341927\n",
      "Epoch: 055 | Lr: 0.00100000000000000002 |Train loss: 0.69865457|Val loss: 0.71069815\n",
      "Epoch: 056 | Lr: 0.00100000000000000002 |Train loss: 0.69865457|Val loss: 0.72666048\n",
      "Epoch: 057 | Lr: 0.00100000000000000002 |Train loss: 0.69865457|Val loss: 0.75063794\n",
      "Epoch: 058 | Lr: 0.00100000000000000002 |Train loss: 0.69865457|Val loss: 0.73204706\n",
      "Epoch: 059 | Lr: 0.00100000000000000002 |Train loss: 0.69865457|Val loss: 0.78747532\n",
      "Epoch: 060 | Lr: 0.00100000000000000002 |Train loss: 0.69865457|Val loss: 0.71639735\n",
      "Epoch: 061 | Lr: 0.00100000000000000002 |Train loss: 0.69865457|Val loss: 0.73526635\n",
      "Epoch: 062 | Lr: 0.00100000000000000002 |Train loss: 0.69865457|Val loss: 0.72845375\n",
      "Epoch: 063 | Lr: 0.00100000000000000002 |Train loss: 0.69865457|Val loss: 0.73749414\n",
      "Epoch: 064 | Lr: 0.00100000000000000002 |Train loss: 0.69597187|Val loss: 0.70114260\n",
      "Epoch: 065 | Lr: 0.00100000000000000002 |Train loss: 0.68090519|Val loss: 0.68660829\n",
      "Epoch: 066 | Lr: 0.00100000000000000002 |Train loss: 0.68090519|Val loss: 0.70499331\n",
      "Epoch: 067 | Lr: 0.00100000000000000002 |Train loss: 0.68090519|Val loss: 0.72634320\n",
      "Epoch: 068 | Lr: 0.00100000000000000002 |Train loss: 0.68090519|Val loss: 0.69775852\n",
      "Epoch: 069 | Lr: 0.00100000000000000002 |Train loss: 0.68090519|Val loss: 0.74307770\n",
      "Epoch: 070 | Lr: 0.00100000000000000002 |Train loss: 0.68090519|Val loss: 0.71540216\n",
      "Epoch: 071 | Lr: 0.00100000000000000002 |Train loss: 0.68090519|Val loss: 0.71494204\n",
      "Epoch: 072 | Lr: 0.00100000000000000002 |Train loss: 0.66274013|Val loss: 0.64496559\n",
      "Epoch: 073 | Lr: 0.00100000000000000002 |Train loss: 0.65715936|Val loss: 0.65664699\n",
      "Epoch: 074 | Lr: 0.00100000000000000002 |Train loss: 0.65715936|Val loss: 0.67739881\n",
      "Epoch: 075 | Lr: 0.00100000000000000002 |Train loss: 0.65715936|Val loss: 0.65797633\n",
      "Epoch: 076 | Lr: 0.00100000000000000002 |Train loss: 0.65715936|Val loss: 0.67042945\n",
      "Epoch: 077 | Lr: 0.00100000000000000002 |Train loss: 0.65459256|Val loss: 0.66633672\n",
      "Epoch: 078 | Lr: 0.00100000000000000002 |Train loss: 0.65459256|Val loss: 0.69996199\n",
      "Epoch: 079 | Lr: 0.00100000000000000002 |Train loss: 0.63381949|Val loss: 0.64090826\n",
      "Epoch: 080 | Lr: 0.00100000000000000002 |Train loss: 0.63381949|Val loss: 0.65912819\n",
      "Epoch: 081 | Lr: 0.00100000000000000002 |Train loss: 0.63381949|Val loss: 0.67883846\n",
      "Epoch: 082 | Lr: 0.00100000000000000002 |Train loss: 0.63381949|Val loss: 0.65776430\n",
      "Epoch: 083 | Lr: 0.00100000000000000002 |Train loss: 0.62803974|Val loss: 0.63212377\n",
      "Epoch: 084 | Lr: 0.00100000000000000002 |Train loss: 0.61917669|Val loss: 0.62721394\n",
      "Epoch: 085 | Lr: 0.00100000000000000002 |Train loss: 0.61917669|Val loss: 0.69462426\n",
      "Epoch: 086 | Lr: 0.00100000000000000002 |Train loss: 0.61917669|Val loss: 0.60178943\n",
      "Epoch: 087 | Lr: 0.00100000000000000002 |Train loss: 0.61917669|Val loss: 0.62602008\n",
      "Epoch: 088 | Lr: 0.00100000000000000002 |Train loss: 0.61917669|Val loss: 0.67564787\n",
      "Epoch: 089 | Lr: 0.00100000000000000002 |Train loss: 0.60732713|Val loss: 0.60782783\n",
      "Epoch: 090 | Lr: 0.00100000000000000002 |Train loss: 0.60732713|Val loss: 0.60753348\n",
      "Epoch: 091 | Lr: 0.00100000000000000002 |Train loss: 0.60732713|Val loss: 0.61055906\n",
      "Epoch: 092 | Lr: 0.00100000000000000002 |Train loss: 0.60732713|Val loss: 0.63402123\n",
      "Epoch: 093 | Lr: 0.00100000000000000002 |Train loss: 0.60732713|Val loss: 0.64511423\n",
      "Epoch: 094 | Lr: 0.00100000000000000002 |Train loss: 0.60732713|Val loss: 0.60741003\n",
      "Epoch: 095 | Lr: 0.00100000000000000002 |Train loss: 0.60151220|Val loss: 0.59130389\n",
      "Epoch: 096 | Lr: 0.00100000000000000002 |Train loss: 0.60151220|Val loss: 0.59419672\n",
      "Epoch: 097 | Lr: 0.00100000000000000002 |Train loss: 0.59486939|Val loss: 0.59463390\n"
     ]
    },
    {
     "name": "stdout",
     "output_type": "stream",
     "text": [
      "Epoch: 098 | Lr: 0.00100000000000000002 |Train loss: 0.58552986|Val loss: 0.58415377\n",
      "Epoch: 099 | Lr: 0.00100000000000000002 |Train loss: 0.58552986|Val loss: 0.64607846\n",
      "Epoch: 100 | Lr: 0.00100000000000000002 |Train loss: 0.58552986|Val loss: 0.65892193\n",
      "Epoch: 101 | Lr: 0.00100000000000000002 |Train loss: 0.58552986|Val loss: 0.71002725\n",
      "Epoch: 102 | Lr: 0.00100000000000000002 |Train loss: 0.58552986|Val loss: 0.61647881\n",
      "Epoch: 103 | Lr: 0.00100000000000000002 |Train loss: 0.58314346|Val loss: 0.59367557\n",
      "Epoch: 104 | Lr: 0.00100000000000000002 |Train loss: 0.58314346|Val loss: 0.62552798\n",
      "Epoch: 105 | Lr: 0.00100000000000000002 |Train loss: 0.58314346|Val loss: 0.61068970\n",
      "Epoch: 106 | Lr: 0.00100000000000000002 |Train loss: 0.58314346|Val loss: 0.64920142\n",
      "Epoch: 107 | Lr: 0.00100000000000000002 |Train loss: 0.57945016|Val loss: 0.57950907\n",
      "Epoch: 108 | Lr: 0.00100000000000000002 |Train loss: 0.56813276|Val loss: 0.53956928\n",
      "Epoch: 109 | Lr: 0.00100000000000000002 |Train loss: 0.56813276|Val loss: 0.62474353\n",
      "Epoch: 110 | Lr: 0.00100000000000000002 |Train loss: 0.56813276|Val loss: 0.58276296\n",
      "Epoch: 111 | Lr: 0.00100000000000000002 |Train loss: 0.56635395|Val loss: 0.55105520\n",
      "Epoch: 112 | Lr: 0.00100000000000000002 |Train loss: 0.55948763|Val loss: 0.55249094\n",
      "Epoch: 113 | Lr: 0.00100000000000000002 |Train loss: 0.54575494|Val loss: 0.53772811\n",
      "Epoch: 114 | Lr: 0.00100000000000000002 |Train loss: 0.53953725|Val loss: 0.52337407\n",
      "Epoch: 115 | Lr: 0.00100000000000000002 |Train loss: 0.53953725|Val loss: 0.53481213\n",
      "Epoch: 116 | Lr: 0.00100000000000000002 |Train loss: 0.53953725|Val loss: 0.55225142\n",
      "Epoch: 117 | Lr: 0.00100000000000000002 |Train loss: 0.53953725|Val loss: 0.61970325\n",
      "Epoch: 118 | Lr: 0.00100000000000000002 |Train loss: 0.53953725|Val loss: 0.54289920\n",
      "Epoch: 119 | Lr: 0.00100000000000000002 |Train loss: 0.51903152|Val loss: 0.49521455\n",
      "Epoch: 120 | Lr: 0.00100000000000000002 |Train loss: 0.51903152|Val loss: 0.61087422\n",
      "Epoch: 121 | Lr: 0.00100000000000000002 |Train loss: 0.51903152|Val loss: 0.61182568\n",
      "Epoch: 122 | Lr: 0.00100000000000000002 |Train loss: 0.51512776|Val loss: 0.51150034\n",
      "Epoch: 123 | Lr: 0.00100000000000000002 |Train loss: 0.51512776|Val loss: 0.56796646\n",
      "Epoch: 124 | Lr: 0.00100000000000000002 |Train loss: 0.51502015|Val loss: 0.51397040\n",
      "Epoch: 125 | Lr: 0.00100000000000000002 |Train loss: 0.51502015|Val loss: 0.53468163\n",
      "Epoch: 126 | Lr: 0.00100000000000000002 |Train loss: 0.51502015|Val loss: 0.56341176\n",
      "Epoch: 127 | Lr: 0.00100000000000000002 |Train loss: 0.51502015|Val loss: 0.52119739\n",
      "Epoch: 128 | Lr: 0.00100000000000000002 |Train loss: 0.51502015|Val loss: 0.50780687\n",
      "Epoch: 129 | Lr: 0.00100000000000000002 |Train loss: 0.49065878|Val loss: 0.46732880\n",
      "Epoch: 130 | Lr: 0.00100000000000000002 |Train loss: 0.49065878|Val loss: 0.47664580\n",
      "Epoch: 131 | Lr: 0.00100000000000000002 |Train loss: 0.49065878|Val loss: 0.48313309\n",
      "Epoch: 132 | Lr: 0.00100000000000000002 |Train loss: 0.49065878|Val loss: 0.47589342\n",
      "Epoch: 133 | Lr: 0.00100000000000000002 |Train loss: 0.49065878|Val loss: 0.53725544\n",
      "Epoch: 134 | Lr: 0.00100000000000000002 |Train loss: 0.49065878|Val loss: 0.83759938\n",
      "Epoch: 135 | Lr: 0.00100000000000000002 |Train loss: 0.49065878|Val loss: 0.63204694\n",
      "Epoch: 136 | Lr: 0.00100000000000000002 |Train loss: 0.49065878|Val loss: 0.66117522\n",
      "Epoch: 137 | Lr: 0.00100000000000000002 |Train loss: 0.49065878|Val loss: 0.69786112\n",
      "Epoch: 138 | Lr: 0.00100000000000000002 |Train loss: 0.49065878|Val loss: 0.58605762\n",
      "Epoch: 139 | Lr: 0.00100000000000000002 |Train loss: 0.49065878|Val loss: 0.56668384\n",
      "Epoch: 140 | Lr: 0.00100000000000000002 |Train loss: 0.49065878|Val loss: 0.52922040\n",
      "Epoch: 141 | Lr: 0.00100000000000000002 |Train loss: 0.49065878|Val loss: 0.53030453\n",
      "Epoch: 142 | Lr: 0.00100000000000000002 |Train loss: 0.49065878|Val loss: 0.52623829\n",
      "Epoch: 143 | Lr: 0.00100000000000000002 |Train loss: 0.49065878|Val loss: 0.54232438\n",
      "Epoch: 144 | Lr: 0.00100000000000000002 |Train loss: 0.49065878|Val loss: 0.57208208\n",
      "Epoch: 145 | Lr: 0.00100000000000000002 |Train loss: 0.49065878|Val loss: 0.51178821\n",
      "Epoch: 146 | Lr: 0.00100000000000000002 |Train loss: 0.49065878|Val loss: 0.50595284\n",
      "Epoch: 147 | Lr: 0.00100000000000000002 |Train loss: 0.49065878|Val loss: 0.48525021\n",
      "Epoch: 148 | Lr: 0.00100000000000000002 |Train loss: 0.49065878|Val loss: 0.53860159\n",
      "Epoch: 149 | Lr: 0.00100000000000000002 |Train loss: 0.49065878|Val loss: 0.48603772\n",
      "Epoch: 150 | Lr: 0.00100000000000000002 |Train loss: 0.49065878|Val loss: 0.50090550\n",
      "Epoch: 151 | Lr: 0.00100000000000000002 |Train loss: 0.49065878|Val loss: 0.63507062\n",
      "Epoch: 152 | Lr: 0.00100000000000000002 |Train loss: 0.48611446|Val loss: 0.50893127\n",
      "Epoch: 153 | Lr: 0.00100000000000000002 |Train loss: 0.47938990|Val loss: 0.49038794\n",
      "Epoch: 154 | Lr: 0.00100000000000000002 |Train loss: 0.47631712|Val loss: 0.47385992\n",
      "Epoch: 155 | Lr: 0.00100000000000000002 |Train loss: 0.47631712|Val loss: 0.50150991\n",
      "Epoch: 156 | Lr: 0.00100000000000000002 |Train loss: 0.47631712|Val loss: 0.50103489\n",
      "Epoch: 157 | Lr: 0.00100000000000000002 |Train loss: 0.47631712|Val loss: 0.50431354\n",
      "Epoch: 158 | Lr: 0.00100000000000000002 |Train loss: 0.47631712|Val loss: 0.49089077\n",
      "Epoch: 159 | Lr: 0.00100000000000000002 |Train loss: 0.47631712|Val loss: 0.52255630\n",
      "Epoch: 160 | Lr: 0.00100000000000000002 |Train loss: 0.47617717|Val loss: 0.48231196\n",
      "Epoch: 161 | Lr: 0.00100000000000000002 |Train loss: 0.47617717|Val loss: 0.47166057\n",
      "Epoch: 162 | Lr: 0.00100000000000000002 |Train loss: 0.47617717|Val loss: 0.71149924\n",
      "Epoch: 163 | Lr: 0.00100000000000000002 |Train loss: 0.47617717|Val loss: 0.58424719\n",
      "Epoch: 164 | Lr: 0.00100000000000000002 |Train loss: 0.47617717|Val loss: 0.55953709\n",
      "Epoch: 165 | Lr: 0.00100000000000000002 |Train loss: 0.47617717|Val loss: 0.66603727\n",
      "Epoch: 166 | Lr: 0.00100000000000000002 |Train loss: 0.47617717|Val loss: 0.59078119\n",
      "Epoch: 167 | Lr: 0.00100000000000000002 |Train loss: 0.47617717|Val loss: 0.59981834\n",
      "Epoch: 168 | Lr: 0.00100000000000000002 |Train loss: 0.47617717|Val loss: 0.57038990\n",
      "Epoch: 169 | Lr: 0.00100000000000000002 |Train loss: 0.47617717|Val loss: 0.49582388\n",
      "Epoch: 170 | Lr: 0.00100000000000000002 |Train loss: 0.47617717|Val loss: 0.53784002\n",
      "Epoch: 171 | Lr: 0.00100000000000000002 |Train loss: 0.47617717|Val loss: 0.51861963\n",
      "Epoch: 172 | Lr: 0.00100000000000000002 |Train loss: 0.47355599|Val loss: 0.49031998\n",
      "Epoch: 173 | Lr: 0.00100000000000000002 |Train loss: 0.46872574|Val loss: 0.49525097\n",
      "Epoch: 174 | Lr: 0.00100000000000000002 |Train loss: 0.46872574|Val loss: 0.47120569\n",
      "Epoch: 175 | Lr: 0.00100000000000000002 |Train loss: 0.46872574|Val loss: 0.49455226\n",
      "Epoch: 176 | Lr: 0.00100000000000000002 |Train loss: 0.46872574|Val loss: 0.46168017\n",
      "Epoch: 177 | Lr: 0.00100000000000000002 |Train loss: 0.46872574|Val loss: 0.47138813\n",
      "Epoch: 178 | Lr: 0.00100000000000000002 |Train loss: 0.46872574|Val loss: 0.45351459\n",
      "Epoch: 179 | Lr: 0.00100000000000000002 |Train loss: 0.46872574|Val loss: 0.54632954\n",
      "Epoch: 180 | Lr: 0.00100000000000000002 |Train loss: 0.46872574|Val loss: 0.60075760\n",
      "Epoch: 181 | Lr: 0.00100000000000000002 |Train loss: 0.46872574|Val loss: 0.53354175\n",
      "Epoch: 182 | Lr: 0.00100000000000000002 |Train loss: 0.46872574|Val loss: 0.46503635\n",
      "Epoch: 183 | Lr: 0.00100000000000000002 |Train loss: 0.46872574|Val loss: 0.47502859\n",
      "Epoch: 184 | Lr: 0.00100000000000000002 |Train loss: 0.46872574|Val loss: 0.45527990\n",
      "Epoch: 185 | Lr: 0.00100000000000000002 |Train loss: 0.46256717|Val loss: 0.46060522\n",
      "Epoch: 186 | Lr: 0.00100000000000000002 |Train loss: 0.46256717|Val loss: 0.46441925\n",
      "Epoch: 187 | Lr: 0.00100000000000000002 |Train loss: 0.46256717|Val loss: 0.51045520\n",
      "Epoch: 188 | Lr: 0.00100000000000000002 |Train loss: 0.46256717|Val loss: 0.59457389\n",
      "Epoch: 189 | Lr: 0.00100000000000000002 |Train loss: 0.46256717|Val loss: 0.54989597\n",
      "Epoch: 190 | Lr: 0.00100000000000000002 |Train loss: 0.46256717|Val loss: 0.49433540\n",
      "Epoch: 191 | Lr: 0.00100000000000000002 |Train loss: 0.46256717|Val loss: 0.51943996\n",
      "Epoch: 192 | Lr: 0.00100000000000000002 |Train loss: 0.46256717|Val loss: 0.53661067\n",
      "Epoch: 193 | Lr: 0.00100000000000000002 |Train loss: 0.46256717|Val loss: 0.49185664\n",
      "Epoch: 194 | Lr: 0.00100000000000000002 |Train loss: 0.46256717|Val loss: 0.48962025\n"
     ]
    },
    {
     "name": "stdout",
     "output_type": "stream",
     "text": [
      "Epoch: 195 | Lr: 0.00100000000000000002 |Train loss: 0.46256717|Val loss: 0.48672379\n",
      "Epoch: 196 | Lr: 0.00100000000000000002 |Train loss: 0.46256717|Val loss: 0.46526585\n",
      "Epoch: 197 | Lr: 0.00100000000000000002 |Train loss: 0.46256717|Val loss: 0.47299758\n",
      "Epoch: 198 | Lr: 0.00100000000000000002 |Train loss: 0.46256717|Val loss: 0.59375413\n",
      "Epoch: 199 | Lr: 0.00100000000000000002 |Train loss: 0.46256717|Val loss: 0.56298677\n",
      "Epoch: 200 | Lr: 0.00100000000000000002 |Train loss: 0.46256717|Val loss: 0.46177416\n",
      "\n",
      "Training finished.\n",
      "\n"
     ]
    }
   ],
   "source": [
    "for epoch in tqdm_notebook(range(1, epochs + 1)):\n",
    "    mean_loss, n = 0.0 , train_features.shape[1]\n",
    "    train_mean_loss, test_mean_loss = 0, 0\n",
    "    for i in range(n):\n",
    "      # Tensor.cpu()\n",
    "        train, train_target = get_features(totensor(train_features), i)\n",
    "        train, train_target = totensor(train), totensor(train_target)\n",
    "        val, val_target = get_features(totensor(val_features), i)\n",
    "        val, val_target = totensor(val), totensor(val_target)\n",
    "        y_train, y_val = model(train), model(val)\n",
    "        train_loss, val_loss = loss(y_train, train_target), loss(y_val, val_target)\n",
    "        optimizer.zero_grad()\n",
    "        train_loss.backward()\n",
    "        optimizer.step()\n",
    "        losses.loc[i,'Training Loss'], losses.loc[i,'Validating Loss'] = train_loss.detach().cpu().numpy(), val_loss.detach().cpu().numpy()\n",
    "    train_loss, val_loss = losses['Training Loss'].mean(), losses['Validating Loss'].mean()\n",
    "    mean_losses.append((train_loss, val_loss))\n",
    "    if train_loss < min_val_loss:\n",
    "        min_val_loss = train_loss\n",
    "    print('Epoch: {:03d} | Lr: {:.20f} |Train loss: {:.8f}|Val loss: {:.8f}'.\\\n",
    "          format(epoch, optimizer.param_groups[0]['lr'], min_val_loss, val_loss))\n",
    "\n",
    "print('\\nTraining finished.\\n')"
   ]
  },
  {
   "cell_type": "code",
   "execution_count": 9,
   "id": "c27eeab5",
   "metadata": {},
   "outputs": [],
   "source": [
    "test_loss = []\n",
    "for i in range(n):\n",
    "    test, test_target = get_features(totensor(test_features), i)\n",
    "    test, test_target = totensor(test), totensor(test_target)\n",
    "    test_y = model(test)\n",
    "    # val_y = model(val)\n",
    "    test_loss.append(loss(test_target,test_y).detach().cpu().numpy())\n",
    "# print('Test loss: {:.8f}'.\\\n",
    "#       format())\n",
    "# nn.MSELoss(test_y.detach().flatten(),test_target.flatten())\n",
    "# test_y"
   ]
  },
  {
   "cell_type": "code",
   "execution_count": 10,
   "id": "93cd247d",
   "metadata": {},
   "outputs": [
    {
     "name": "stdout",
     "output_type": "stream",
     "text": [
      "0.4243385\n"
     ]
    }
   ],
   "source": [
    "print(np.array(test_loss).mean())\n",
    "mean_losses = np.array(mean_losses)"
   ]
  },
  {
   "cell_type": "code",
   "execution_count": 11,
   "id": "a8b5a1eb",
   "metadata": {},
   "outputs": [
    {
     "data": {
      "image/png": "[encoded data removed]",
      "text/plain": [
       "<Figure size 432x288 with 1 Axes>"
      ]
     },
     "metadata": {},
     "output_type": "display_data"
    }
   ],
   "source": [
    "t_lose = [x for x in np.convolve(mean_losses[:,0], np.ones(20), 'valid') / 20]\n",
    "v_lose = [x for x in np.convolve(mean_losses[:,1], np.ones(20), 'valid') / 20]\n",
    "plt.figure(facecolor='white')\n",
    "plt.plot(t_lose,label = 'val')\n",
    "plt.plot(v_lose,label = 'train')\n",
    "plt.legend()\n",
    "#plt.title('LSTM Training Curve')\n",
    "plt.show()"
   ]
  },
  {
   "cell_type": "code",
   "execution_count": 12,
   "id": "9f8d0a68",
   "metadata": {},
   "outputs": [
    {
     "data": {
      "text/plain": [
       "(0.7867004435134238, 0.397311218343)"
      ]
     },
     "execution_count": 12,
     "metadata": {},
     "output_type": "execute_result"
    }
   ],
   "source": [
    "eva_set =np.zeros((n,2))\n",
    "for i in range(n):\n",
    "    test, test_target = get_features(totensor(test_features), i)\n",
    "    test = totensor(test)\n",
    "    y_test =  model(test).detach().cpu().numpy().reshape(-1)[-1]\n",
    "    test_target = test_target.reshape(-1)[-1]\n",
    "    eva_set[i] = np.array([test_target,y_test])\n",
    "    \n",
    "scipy.stats.pearsonr(eva_set[:,0],eva_set[:,1])[0],mean_squared_error(eva_set[:,0],eva_set[:,1])"
   ]
  },
  {
   "cell_type": "code",
   "execution_count": 13,
   "id": "63b893ab",
   "metadata": {},
   "outputs": [
    {
     "data": {
      "image/png": "[encoded data removed]",
      "text/plain": [
       "<Figure size 936x288 with 1 Axes>"
      ]
     },
     "metadata": {},
     "output_type": "display_data"
    }
   ],
   "source": [
    "a = eva_set[:,0]\n",
    "p = eva_set[:,1]\n",
    "plt.figure(figsize = (13,4),facecolor='white')\n",
    "xxx = np.arange(len(p))\n",
    "\n",
    "plt.bar(xxx-0.5,a[xxx],0.5,label = 'true')\n",
    "plt.bar(xxx,p[xxx],0.5,label = 'prediction')\n",
    "plt.legend()\n",
    "#plt.title('LSTM Prediction')\n",
    "plt.show()"
   ]
  },
  {
   "cell_type": "markdown",
   "id": "628fec73",
   "metadata": {},
   "source": [
    "# Linear Regressor"
   ]
  },
  {
   "cell_type": "code",
   "execution_count": 14,
   "id": "f418a893",
   "metadata": {},
   "outputs": [],
   "source": [
    "import statsmodels.api as sm\n",
    "n = train_features.shape[1]\n",
    "new_train_feature = np.zeros((train_features.shape[0]*n,train_features.shape[2]+1))\n",
    "for i in range(n):\n",
    "    new_train_feature[train_features.shape[0]*i:train_features.shape[0]*(i+1)] = np.hstack((train_features[:,i,:],np.array([[i]]*train_features.shape[0])))\n",
    "train = pd.DataFrame(new_train_feature)\n",
    "train[5] = train[5].astype('category')\n",
    "X_train,Y_train = train.iloc[:,[0,1,2,3,5]],train.iloc[:,4]\n",
    "X_train = pd.get_dummies(data=X_train, drop_first=True)"
   ]
  },
  {
   "cell_type": "code",
   "execution_count": 15,
   "id": "5166ba36",
   "metadata": {},
   "outputs": [
    {
     "data": {
      "text/plain": [
       "(9288, 175)"
      ]
     },
     "execution_count": 15,
     "metadata": {},
     "output_type": "execute_result"
    }
   ],
   "source": [
    "X_train.shape"
   ]
  },
  {
   "cell_type": "code",
   "execution_count": 16,
   "id": "f8fc2afc",
   "metadata": {},
   "outputs": [],
   "source": [
    "new_test_feature = np.zeros(((test_features.shape[0]+val_features.shape[0])*n,(test_features.shape[2])+1))\n",
    "for i in range(n):\n",
    "    new_test_feature[test_features.shape[0]*i:test_features.shape[0]*(i+1)] = np.hstack((test_features[:,i,:],np.array([[i]]*test_features.shape[0])))\n",
    "    new_test_feature[test_features.shape[0]*n + val_features.shape[0]*i:test_features.shape[0]*n + val_features.shape[0]*(i+1)] = np.hstack((val_features[:,i,:],np.array([[i]]*val_features.shape[0])))\n",
    "test = pd.DataFrame(new_test_feature)\n",
    "test[5] = test[5].astype('category')\n",
    "X_test,Y_test = test.iloc[:,[0,1,2,3,5]],test.iloc[:,4]\n",
    "X_test = pd.get_dummies(data=X_test, drop_first=True)"
   ]
  },
  {
   "cell_type": "code",
   "execution_count": 17,
   "id": "18492ab8",
   "metadata": {},
   "outputs": [
    {
     "data": {
      "text/plain": [
       "LinearRegression()"
      ]
     },
     "execution_count": 17,
     "metadata": {},
     "output_type": "execute_result"
    }
   ],
   "source": [
    "X2 = sm.add_constant(X_train)\n",
    "est = sm.OLS(Y_train,X2)\n",
    "est2 = est.fit_regularized(L1_wt = .5,alpha = .1)\n",
    "from sklearn.linear_model import LinearRegression\n",
    "X_train = X_train.values\n",
    "Y_train = Y_train.values\n",
    "\n",
    "model = LinearRegression()\n",
    "model.fit(X_train,Y_train)"
   ]
  },
  {
   "cell_type": "code",
   "execution_count": 18,
   "id": "7f1705a2",
   "metadata": {},
   "outputs": [
    {
     "data": {
      "text/plain": [
       "(0.8340322307603375, 0.3114301129767445)"
      ]
     },
     "execution_count": 18,
     "metadata": {},
     "output_type": "execute_result"
    }
   ],
   "source": [
    "XX = sm.add_constant(X_test)\n",
    "pred_y = est2.predict(XX)\n",
    "scipy.stats.pearsonr(Y_test,pred_y)[0],mean_squared_error(Y_test,pred_y)\n",
    "# pred_y"
   ]
  },
  {
   "cell_type": "code",
   "execution_count": 19,
   "id": "687fa654",
   "metadata": {},
   "outputs": [
    {
     "data": {
      "image/png": "[encoded data removed]",
      "text/plain": [
       "<Figure size 936x288 with 1 Axes>"
      ]
     },
     "metadata": {},
     "output_type": "display_data"
    }
   ],
   "source": [
    "a = np.array(Y_test[:3096]).reshape((172,-1),order = 'A').mean(axis = 1 )\n",
    "p = np.array(pred_y[:3096]).reshape((172,-1),order = 'A').mean(axis = 1 )\n",
    "plt.figure(figsize = (13,4),facecolor='white')\n",
    "xxx = np.arange(len(p))\n",
    "\n",
    "plt.bar(xxx-0.5,a[xxx],0.5,label = 'true')\n",
    "plt.bar(xxx,p[xxx],0.5,label = 'prediction')\n",
    "plt.legend()\n",
    "#plt.title('Linear Regression Prediction')\n",
    "plt.show()"
   ]
  },
  {
   "cell_type": "markdown",
   "id": "2e3760a5",
   "metadata": {},
   "source": [
    "# AR (Autoregressive Model)"
   ]
  },
  {
   "cell_type": "code",
   "execution_count": 20,
   "id": "65302ec9",
   "metadata": {},
   "outputs": [
    {
     "data": {
      "text/plain": [
       "(172, 54)"
      ]
     },
     "execution_count": 20,
     "metadata": {},
     "output_type": "execute_result"
    }
   ],
   "source": [
    "from statsmodels.tsa.stattools import adfuller\n",
    "from statsmodels.tsa.ar_model import AutoReg\n",
    "train_series = train_features[:,:,4].T\n",
    "test_series = test_features[:,:,4].T\n",
    "val_series = val_features[:,:,4].T\n",
    "train_series.shape"
   ]
  },
  {
   "cell_type": "code",
   "execution_count": 21,
   "id": "9d850b5d",
   "metadata": {},
   "outputs": [
    {
     "data": {
      "text/plain": [
       "(172, 18)"
      ]
     },
     "execution_count": 21,
     "metadata": {},
     "output_type": "execute_result"
    }
   ],
   "source": [
    "ar_models = []\n",
    "for i in range(n):\n",
    "    ar_model = AutoReg(train_series[i], lags=5).fit()\n",
    "    ar_models.append(ar_model)\n",
    "test_series.shape"
   ]
  },
  {
   "cell_type": "code",
   "execution_count": 22,
   "id": "c40e36aa",
   "metadata": {},
   "outputs": [],
   "source": [
    "ar_pred = []\n",
    "for i in range(n):\n",
    "    pred = ar_models[i].predict(start=train_series.shape[1]+val_series.shape[1]+1,\n",
    "                              end=(train_series.shape[1]+test_series.shape[1]+val_series.shape[1]), dynamic=False)\n",
    "    ar_pred.append(pred)\n",
    "ar_pred = np.array(ar_pred)"
   ]
  },
  {
   "cell_type": "code",
   "execution_count": 23,
   "id": "786593a9",
   "metadata": {},
   "outputs": [
    {
     "data": {
      "image/png": "[encoded data removed]",
      "text/plain": [
       "<Figure size 936x288 with 1 Axes>"
      ]
     },
     "metadata": {},
     "output_type": "display_data"
    }
   ],
   "source": [
    "a = test_series.mean(axis=1)\n",
    "p = ar_pred.mean(axis=1)\n",
    "plt.figure(figsize = (13,4),facecolor='white')\n",
    "xxx = np.arange(len(p))\n",
    "\n",
    "plt.bar(xxx-0.5,a[xxx],0.5,label = 'true')\n",
    "plt.bar(xxx,p[xxx],0.5,label = 'prediction')\n",
    "plt.legend()\n",
    "#plt.title('AR Prediction')\n",
    "plt.show()"
   ]
  },
  {
   "cell_type": "code",
   "execution_count": 24,
   "id": "76e75834",
   "metadata": {},
   "outputs": [
    {
     "name": "stdout",
     "output_type": "stream",
     "text": [
      "(172, 18)\n",
      "(172, 18)\n"
     ]
    }
   ],
   "source": [
    "print(ar_pred.shape)\n",
    "print(test_series.shape)"
   ]
  },
  {
   "cell_type": "code",
   "execution_count": 25,
   "id": "11194b29",
   "metadata": {},
   "outputs": [
    {
     "data": {
      "text/plain": [
       "(0.9010039860963176, 0.20195191740444982)"
      ]
     },
     "execution_count": 25,
     "metadata": {},
     "output_type": "execute_result"
    }
   ],
   "source": [
    "pred_y = ar_pred.flatten()\n",
    "actual_y = test_series.flatten()\n",
    "scipy.stats.pearsonr(pred_y,actual_y)[0],mean_squared_error(pred_y,actual_y)"
   ]
  },
  {
   "cell_type": "markdown",
   "id": "0e7ea33a",
   "metadata": {},
   "source": [
    "# HA (Naive Approach)"
   ]
  },
  {
   "cell_type": "code",
   "execution_count": 26,
   "id": "b33e803f",
   "metadata": {},
   "outputs": [],
   "source": [
    "HA_pred = np.zeros((n,4))\n",
    "for i in range(n):\n",
    "    for k in range(3):\n",
    "        HA_pred[i][k] = (np.sum(train_series[i,-(3-k)])+np.sum(HA_pred[i]))/4\n",
    "    HA_pred[i][3] = sum(HA_pred[i])/4\n",
    "pred_y = HA_pred.flatten()\n",
    "actual_y = np.array([x[-4:] for x in val_series]).flatten()"
   ]
  },
  {
   "cell_type": "code",
   "execution_count": 27,
   "id": "68e2b415",
   "metadata": {},
   "outputs": [
    {
     "data": {
      "text/plain": [
       "(0.9518003729199354, 0.5151370420798731)"
      ]
     },
     "execution_count": 27,
     "metadata": {},
     "output_type": "execute_result"
    }
   ],
   "source": [
    "scipy.stats.pearsonr(pred_y,actual_y)[0],mean_squared_error(pred_y,actual_y)"
   ]
  },
  {
   "cell_type": "code",
   "execution_count": 28,
   "id": "188bcc99",
   "metadata": {},
   "outputs": [],
   "source": [
    "a = actual_y.reshape((172,-1)).mean(axis = 1)\n",
    "p = pred_y.reshape((172,-1)).mean(axis = 1)"
   ]
  },
  {
   "cell_type": "code",
   "execution_count": 29,
   "id": "ca263bbb",
   "metadata": {},
   "outputs": [
    {
     "data": {
      "image/png": "[encoded data removed]",
      "text/plain": [
       "<Figure size 936x288 with 1 Axes>"
      ]
     },
     "metadata": {},
     "output_type": "display_data"
    }
   ],
   "source": [
    "a = actual_y.reshape((172,-1)).mean(axis = 1)\n",
    "p = pred_y.reshape((172,-1)).mean(axis = 1)\n",
    "plt.figure(figsize = (13,4),facecolor='white')\n",
    "xxx = np.arange(len(p))\n",
    "\n",
    "plt.bar(xxx-0.5,a[xxx],0.5,label = 'true')\n",
    "plt.bar(xxx,p[xxx],0.5,label = 'prediction')\n",
    "plt.legend()\n",
    "#plt.title('HA Prediction')\n",
    "plt.show()"
   ]
  },
  {
   "cell_type": "code",
   "execution_count": null,
   "id": "680d7ba0",
   "metadata": {},
   "outputs": [],
   "source": [
    "pd.DataFrame({\"ss\":[12.32]})"
   ]
  },
  {
   "cell_type": "code",
   "execution_count": null,
   "id": "2d777da2",
   "metadata": {},
   "outputs": [],
   "source": []
  }
 ],
 "metadata": {
  "kernelspec": {
   "display_name": "Python 3 (ipykernel)",
   "language": "python",
   "name": "python3"
  },
  "language_info": {
   "codemirror_mode": {
    "name": "ipython",
    "version": 3
   },
   "file_extension": ".py",
   "mimetype": "text/x-python",
   "name": "python",
   "nbconvert_exporter": "python",
   "pygments_lexer": "ipython3",
   "version": "3.9.12"
  },
  "toc": {
   "base_numbering": 1,
   "nav_menu": {},
   "number_sections": true,
   "sideBar": true,
   "skip_h1_title": false,
   "title_cell": "Table of Contents",
   "title_sidebar": "Contents",
   "toc_cell": false,
   "toc_position": {},
   "toc_section_display": true,
   "toc_window_display": false
  },
  "varInspector": {
   "cols": {
    "lenName": 16,
    "lenType": 16,
    "lenVar": 40
   },
   "kernels_config": {
    "python": {
     "delete_cmd_postfix": "",
     "delete_cmd_prefix": "del ",
     "library": "var_list.py",
     "varRefreshCmd": "print(var_dic_list())"
    },
    "r": {
     "delete_cmd_postfix": ") ",
     "delete_cmd_prefix": "rm(",
     "library": "var_list.r",
     "varRefreshCmd": "cat(var_dic_list()) "
    }
   },
   "types_to_exclude": [
    "module",
    "function",
    "builtin_function_or_method",
    "instance",
    "_Feature"
   ],
   "window_display": false
  }
 },
 "nbformat": 4,
 "nbformat_minor": 5
}
